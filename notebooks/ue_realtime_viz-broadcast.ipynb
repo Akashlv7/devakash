{
 "cells": [
  {
   "cell_type": "code",
   "execution_count": 1,
   "metadata": {},
   "outputs": [],
   "source": [
    "import time\n",
    "from pymongo import MongoClient"
   ]
  },
  {
   "cell_type": "code",
   "execution_count": 2,
   "metadata": {},
   "outputs": [],
   "source": [
    "import matplotlib.pyplot as plt\n",
    "%matplotlib inline\n",
    "import seaborn as sns\n",
    "import numpy as np"
   ]
  },
  {
   "cell_type": "code",
   "execution_count": 3,
   "metadata": {},
   "outputs": [],
   "source": [
    "mongoDBClient = MongoClient()\n",
    "analytics_DB = mongoDBClient.analytics\n",
    "ua_col = analytics_DB.live_user_activity"
   ]
  },
  {
   "cell_type": "code",
   "execution_count": 4,
   "metadata": {},
   "outputs": [],
   "source": [
    "brh_loc = [[\"bengaluru\", (12.9716, 77.5946), 0.02], [\"delhi\", (28.7041, 77.1025),0.02]] "
   ]
  },
  {
   "cell_type": "code",
   "execution_count": null,
   "metadata": {},
   "outputs": [],
   "source": []
  },
  {
   "cell_type": "code",
   "execution_count": 5,
   "metadata": {},
   "outputs": [],
   "source": [
    "def get_live_users_data_within_radius(latitude, longitude, range):\n",
    "    result = ua_col.find({\"location\": {\"$geoWithin\": { \"$centerSphere\": [ [ longitude, latitude ], 0.02 ]}}})\n",
    "    return result"
   ]
  },
  {
   "cell_type": "code",
   "execution_count": 6,
   "metadata": {},
   "outputs": [],
   "source": [
    "def get_above_thrershold_urls(data, medium):\n",
    "    url_hit = {}\n",
    "    above_threshold_urls = []\n",
    "    for row in data:\n",
    "        url = row[\"url\"]\n",
    "        if not medium == row[\"medium\"]:\n",
    "            continue\n",
    "        if not url in url_hit:\n",
    "            url_hit[url] = 0\n",
    "        url_hit[url] = url_hit[url] + 1\n",
    "\n",
    "    return url_hit"
   ]
  },
  {
   "cell_type": "code",
   "execution_count": 7,
   "metadata": {},
   "outputs": [],
   "source": [
    "from IPython.display import clear_output"
   ]
  },
  {
   "cell_type": "code",
   "execution_count": 8,
   "metadata": {},
   "outputs": [
    {
     "data": {
      "text/plain": [
       "<BarContainer object of 0 artists>"
      ]
     },
     "execution_count": 8,
     "metadata": {},
     "output_type": "execute_result"
    },
    {
     "data": {
      "image/png": "[encoded data removed]",
      "text/plain": [
       "<Figure size 432x288 with 1 Axes>"
      ]
     },
     "metadata": {
      "needs_background": "light"
     },
     "output_type": "display_data"
    }
   ],
   "source": [
    "live_users_data = get_live_users_data_within_radius(brh_loc[0][1][0], brh_loc[0][1][1], 200)\n",
    "broadcast_contents  = get_above_thrershold_urls(live_users_data, \"broadcast\")\n",
    "plt.bar(broadcast_contents.keys(), broadcast_contents.values())"
   ]
  },
  {
   "cell_type": "code",
   "execution_count": 9,
   "metadata": {},
   "outputs": [],
   "source": [
    "live_users_data = get_live_users_data_within_radius(brh_loc[0][1][0], brh_loc[0][1][1], 200)\n",
    "broadband_contents  = get_above_thrershold_urls(live_users_data, \"broadband\")"
   ]
  },
  {
   "cell_type": "code",
   "execution_count": null,
   "metadata": {},
   "outputs": [
    {
     "data": {
      "image/png": "[encoded data removed]",
      "text/plain": [
       "<Figure size 432x288 with 1 Axes>"
      ]
     },
     "metadata": {},
     "output_type": "display_data"
    }
   ],
   "source": [
    "\n",
    "from IPython import display\n",
    "\n",
    "while True:\n",
    "    plt.gca().cla() \n",
    "    live_users_data = get_live_users_data_within_radius(brh_loc[0][1][0], brh_loc[0][1][1], 200)\n",
    "    broadband_contents  = get_above_thrershold_urls(live_users_data, \"broadcast\")\n",
    "    plt.bar(broadband_contents.keys(), broadband_contents.values())\n",
    "    display.clear_output(wait=True)\n",
    "    display.display(plt.gcf()) \n",
    "    time.sleep(2) "
   ]
  },
  {
   "cell_type": "code",
   "execution_count": null,
   "metadata": {},
   "outputs": [],
   "source": []
  }
 ],
 "metadata": {
  "kernelspec": {
   "display_name": "Python 3",
   "language": "python",
   "name": "python3"
  },
  "language_info": {
   "codemirror_mode": {
    "name": "ipython",
    "version": 3
   },
   "file_extension": ".py",
   "mimetype": "text/x-python",
   "name": "python",
   "nbconvert_exporter": "python",
   "pygments_lexer": "ipython3",
   "version": "3.8.5"
  }
 },
 "nbformat": 4,
 "nbformat_minor": 4
}
