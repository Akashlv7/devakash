{
 "cells": [
  {
   "cell_type": "code",
   "execution_count": 1,
   "metadata": {},
   "outputs": [],
   "source": [
    "import pandas as pd\n",
    "import matplotlib.pyplot as plt\n",
    "%matplotlib inline\n",
    "import seaborn as sns\n",
    "import numpy as np"
   ]
  },
  {
   "cell_type": "code",
   "execution_count": 3,
   "metadata": {},
   "outputs": [],
   "source": [
    "saranyu_sep_5_data = pd.read_csv(\"../data/playlists/playlist_report_Sep01-Sep05.csv\")\n",
    "saranyu_sep_10_data = pd.read_csv(\"../data/playlists/playlist_report_Sep06-Sep10.csv\")\n",
    "saranyu_sep_15_data = pd.read_csv(\"../data/playlists/playlist_report_Sep11-Sep15.csv\")\n",
    "saranyu_sep_20_data = pd.read_csv(\"../data/playlists/playlist_report_Sep16-Sep20.csv\")\n",
    "saranyu_sep_25_data = pd.read_csv(\"../data/playlists/playlist_report_Sep21-Sep25.csv\")\n",
    "saranyu_sep_30_data = pd.read_csv(\"../data/playlists/playlist_report_Sep26-Sep30.csv\")"
   ]
  },
  {
   "cell_type": "code",
   "execution_count": 4,
   "metadata": {},
   "outputs": [
    {
     "data": {
      "text/plain": [
       "93013"
      ]
     },
     "execution_count": 4,
     "metadata": {},
     "output_type": "execute_result"
    }
   ],
   "source": [
    "stacked_data = pd.concat([saranyu_sep_5_data, saranyu_sep_10_data, saranyu_sep_15_data, saranyu_sep_20_data, saranyu_sep_25_data, saranyu_sep_30_data], ignore_index=True)\n",
    "\n",
    "len(stacked_data)"
   ]
  },
  {
   "cell_type": "code",
   "execution_count": 5,
   "metadata": {},
   "outputs": [],
   "source": [
    "def split_datetime(df):\n",
    "    df[\"year\"] = df[\"Playlist Created At\"].str[0:4]\n",
    "    df[\"month\"] = df[\"Playlist Created At\"].str[5:7]\n",
    "    df[\"day\"] = df[\"Playlist Created At\"].str[8:10]\n",
    "    df[\"hour\"] = df[\"Playlist Created At\"].str[11:13]\n",
    "    df[\"minute\"] = df[\"Playlist Created At\"].str[14:16]\n",
    "    df[\"second\"] = df[\"Playlist Created At\"].str[17:19]\n",
    "    df[\"timezone\"] = df[\"Playlist Created At\"].str[20:23]"
   ]
  },
  {
   "cell_type": "code",
   "execution_count": 6,
   "metadata": {},
   "outputs": [],
   "source": [
    "split_datetime(stacked_data)"
   ]
  },
  {
   "cell_type": "code",
   "execution_count": 7,
   "metadata": {},
   "outputs": [
    {
     "data": {
      "text/html": [
       "<div>\n",
       "<style scoped>\n",
       "    .dataframe tbody tr th:only-of-type {\n",
       "        vertical-align: middle;\n",
       "    }\n",
       "\n",
       "    .dataframe tbody tr th {\n",
       "        vertical-align: top;\n",
       "    }\n",
       "\n",
       "    .dataframe thead th {\n",
       "        text-align: right;\n",
       "    }\n",
       "</style>\n",
       "<table border=\"1\" class=\"dataframe\">\n",
       "  <thead>\n",
       "    <tr style=\"text-align: right;\">\n",
       "      <th></th>\n",
       "      <th>User Id</th>\n",
       "      <th>Content Id</th>\n",
       "      <th>Catalog id</th>\n",
       "      <th>Genre</th>\n",
       "      <th>Cast</th>\n",
       "      <th>Crew</th>\n",
       "      <th>type</th>\n",
       "      <th>Duration</th>\n",
       "      <th>Release date</th>\n",
       "      <th>Playback Time</th>\n",
       "      <th>Playlist Created At</th>\n",
       "      <th>year</th>\n",
       "      <th>month</th>\n",
       "      <th>day</th>\n",
       "      <th>hour</th>\n",
       "      <th>minute</th>\n",
       "      <th>second</th>\n",
       "      <th>timezone</th>\n",
       "    </tr>\n",
       "  </thead>\n",
       "  <tbody>\n",
       "    <tr>\n",
       "      <th>0</th>\n",
       "      <td>7025240</td>\n",
       "      <td>5f09f1dda609d206c8002da1</td>\n",
       "      <td>5b8d119ac1df411ca70000c1</td>\n",
       "      <td>comedy, action</td>\n",
       "      <td>Akshay Kumar, Suniel Shetty, Aftab Shivdasani,...</td>\n",
       "      <td>Akshay Kumar, Suniel Shetty, Aftab Shivdasani,...</td>\n",
       "      <td>Movie</td>\n",
       "      <td>02:37:23</td>\n",
       "      <td>20/06/2002</td>\n",
       "      <td>NaN</td>\n",
       "      <td>2020-09-01 00:28:43 UTC</td>\n",
       "      <td>2020</td>\n",
       "      <td>09</td>\n",
       "      <td>01</td>\n",
       "      <td>00</td>\n",
       "      <td>28</td>\n",
       "      <td>43</td>\n",
       "      <td>UTC</td>\n",
       "    </tr>\n",
       "    <tr>\n",
       "      <th>1</th>\n",
       "      <td>7025240</td>\n",
       "      <td>5ba8d1dec1df413dae000273</td>\n",
       "      <td>5b8d1076c1df411ca70000c0</td>\n",
       "      <td>crime, action, thriller</td>\n",
       "      <td>Amitabh Bachchan,  Zeenat Aman,  Pran,  Iftekh...</td>\n",
       "      <td>Amitabh Bachchan,  Zeenat Aman,  Pran,  Iftekh...</td>\n",
       "      <td>Movie</td>\n",
       "      <td>02:39:44</td>\n",
       "      <td>01/01/1978</td>\n",
       "      <td>NaN</td>\n",
       "      <td>2020-09-01 00:28:43 UTC</td>\n",
       "      <td>2020</td>\n",
       "      <td>09</td>\n",
       "      <td>01</td>\n",
       "      <td>00</td>\n",
       "      <td>28</td>\n",
       "      <td>43</td>\n",
       "      <td>UTC</td>\n",
       "    </tr>\n",
       "    <tr>\n",
       "      <th>2</th>\n",
       "      <td>7029478</td>\n",
       "      <td>5cdc2c5eed8f7d7618002a37</td>\n",
       "      <td>5c8794d0a58c4046c8000235</td>\n",
       "      <td>drama</td>\n",
       "      <td>Reeshabh Purohit, Apurva Paranjape, Vibhuti Ka...</td>\n",
       "      <td>Reeshabh Purohit, Apurva Paranjape, Vibhuti Ka...</td>\n",
       "      <td>Movie</td>\n",
       "      <td>01:40:40</td>\n",
       "      <td>01/01/2018</td>\n",
       "      <td>00:02:49</td>\n",
       "      <td>2020-09-01 03:34:20 UTC</td>\n",
       "      <td>2020</td>\n",
       "      <td>09</td>\n",
       "      <td>01</td>\n",
       "      <td>03</td>\n",
       "      <td>34</td>\n",
       "      <td>20</td>\n",
       "      <td>UTC</td>\n",
       "    </tr>\n",
       "    <tr>\n",
       "      <th>3</th>\n",
       "      <td>7058695</td>\n",
       "      <td>5f1adfa0a609d206c8008c10</td>\n",
       "      <td>5f168feca609d206c800673d</td>\n",
       "      <td>biography, religious</td>\n",
       "      <td>Sharman Joshi, Stephen Baldwin, Shari Rigby, M...</td>\n",
       "      <td>Sharman Joshi, Stephen Baldwin, Shari Rigby, M...</td>\n",
       "      <td>Movie</td>\n",
       "      <td>01:48:37</td>\n",
       "      <td>21/08/2020</td>\n",
       "      <td>01:40:19</td>\n",
       "      <td>2020-09-01 14:41:46 UTC</td>\n",
       "      <td>2020</td>\n",
       "      <td>09</td>\n",
       "      <td>01</td>\n",
       "      <td>14</td>\n",
       "      <td>41</td>\n",
       "      <td>46</td>\n",
       "      <td>UTC</td>\n",
       "    </tr>\n",
       "    <tr>\n",
       "      <th>4</th>\n",
       "      <td>7019591</td>\n",
       "      <td>5ce50998ed8f7d04f9000188</td>\n",
       "      <td>5b8d1076c1df411ca70000c0</td>\n",
       "      <td>drama, family, romance</td>\n",
       "      <td>Sachin Pilgaonkar, Ranjeeta Kaur, Madan Puri, ...</td>\n",
       "      <td>Sachin Pilgaonkar, Ranjeeta Kaur, Madan Puri, ...</td>\n",
       "      <td>Movie</td>\n",
       "      <td>02:14:37</td>\n",
       "      <td>07/04/1978</td>\n",
       "      <td>00:00:43</td>\n",
       "      <td>2020-09-01 15:45:04 UTC</td>\n",
       "      <td>2020</td>\n",
       "      <td>09</td>\n",
       "      <td>01</td>\n",
       "      <td>15</td>\n",
       "      <td>45</td>\n",
       "      <td>04</td>\n",
       "      <td>UTC</td>\n",
       "    </tr>\n",
       "  </tbody>\n",
       "</table>\n",
       "</div>"
      ],
      "text/plain": [
       "   User Id                Content Id                Catalog id  \\\n",
       "0  7025240  5f09f1dda609d206c8002da1  5b8d119ac1df411ca70000c1   \n",
       "1  7025240  5ba8d1dec1df413dae000273  5b8d1076c1df411ca70000c0   \n",
       "2  7029478  5cdc2c5eed8f7d7618002a37  5c8794d0a58c4046c8000235   \n",
       "3  7058695  5f1adfa0a609d206c8008c10  5f168feca609d206c800673d   \n",
       "4  7019591  5ce50998ed8f7d04f9000188  5b8d1076c1df411ca70000c0   \n",
       "\n",
       "                     Genre                                               Cast  \\\n",
       "0           comedy, action  Akshay Kumar, Suniel Shetty, Aftab Shivdasani,...   \n",
       "1  crime, action, thriller  Amitabh Bachchan,  Zeenat Aman,  Pran,  Iftekh...   \n",
       "2                    drama  Reeshabh Purohit, Apurva Paranjape, Vibhuti Ka...   \n",
       "3     biography, religious  Sharman Joshi, Stephen Baldwin, Shari Rigby, M...   \n",
       "4   drama, family, romance  Sachin Pilgaonkar, Ranjeeta Kaur, Madan Puri, ...   \n",
       "\n",
       "                                                Crew   type  Duration  \\\n",
       "0  Akshay Kumar, Suniel Shetty, Aftab Shivdasani,...  Movie  02:37:23   \n",
       "1  Amitabh Bachchan,  Zeenat Aman,  Pran,  Iftekh...  Movie  02:39:44   \n",
       "2  Reeshabh Purohit, Apurva Paranjape, Vibhuti Ka...  Movie  01:40:40   \n",
       "3  Sharman Joshi, Stephen Baldwin, Shari Rigby, M...  Movie  01:48:37   \n",
       "4  Sachin Pilgaonkar, Ranjeeta Kaur, Madan Puri, ...  Movie  02:14:37   \n",
       "\n",
       "  Release date Playback Time      Playlist Created At  year month day hour  \\\n",
       "0   20/06/2002           NaN  2020-09-01 00:28:43 UTC  2020    09  01   00   \n",
       "1   01/01/1978           NaN  2020-09-01 00:28:43 UTC  2020    09  01   00   \n",
       "2   01/01/2018      00:02:49  2020-09-01 03:34:20 UTC  2020    09  01   03   \n",
       "3   21/08/2020      01:40:19  2020-09-01 14:41:46 UTC  2020    09  01   14   \n",
       "4   07/04/1978      00:00:43  2020-09-01 15:45:04 UTC  2020    09  01   15   \n",
       "\n",
       "  minute second timezone  \n",
       "0     28     43      UTC  \n",
       "1     28     43      UTC  \n",
       "2     34     20      UTC  \n",
       "3     41     46      UTC  \n",
       "4     45     04      UTC  "
      ]
     },
     "execution_count": 7,
     "metadata": {},
     "output_type": "execute_result"
    }
   ],
   "source": [
    "stacked_data.head()"
   ]
  },
  {
   "cell_type": "code",
   "execution_count": 7,
   "metadata": {},
   "outputs": [
    {
     "data": {
      "text/plain": [
       "array(['01', '02', '03', '04', '05', '06', '07', '08', '09', '10', '11',\n",
       "       '12', '13', '14', '15', '17', '18', '16', '19', '20', '21', '22',\n",
       "       '23', '24', '25', '26', '27', '29', '28', '30'], dtype=object)"
      ]
     },
     "execution_count": 7,
     "metadata": {},
     "output_type": "execute_result"
    }
   ],
   "source": [
    "stacked_data[stacked_data[\"type\"] == \"Movie\"][\"day\"].unique()"
   ]
  },
  {
   "cell_type": "code",
   "execution_count": 8,
   "metadata": {},
   "outputs": [
    {
     "data": {
      "text/plain": [
       "5f625942a609d2069f016a53    117\n",
       "5ba9f639c1df41479a0000cd    105\n",
       "5f6cd763a609d279c80022b4     86\n",
       "5c62871ea58c406b38000266     31\n",
       "5b8e5b32c1df41291800004c     30\n",
       "5f3f8724a609d2069f006ec1     29\n",
       "5e1728bded8f7d4e600016e3     25\n",
       "5ba9f646c1df41479a0000cf     25\n",
       "5ece960fa609d248b90006cd     25\n",
       "5f639b8ca609d2069f0171d6     22\n",
       "Name: Content Id, dtype: int64"
      ]
     },
     "execution_count": 8,
     "metadata": {},
     "output_type": "execute_result"
    }
   ],
   "source": [
    "stacked_data[ (stacked_data[\"day\"] == \"30\") ][\"Content Id\"].value_counts()[:10]"
   ]
  },
  {
   "cell_type": "code",
   "execution_count": 9,
   "metadata": {},
   "outputs": [
    {
     "data": {
      "text/plain": [
       "5f625942a609d2069f016a53    513\n",
       "5f6cd763a609d279c80022b4    118\n",
       "5ba9f639c1df41479a0000cd    109\n",
       "5f3f8724a609d2069f006ec1     88\n",
       "5e1728bded8f7d4e600016e3     54\n",
       "5ece960fa609d248b90006cd     52\n",
       "5e3cfd5fed8f7d3296002940     50\n",
       "5f2c38d9a609d206c800f9c3     36\n",
       "5c62871ea58c406b38000266     35\n",
       "5ba9f646c1df41479a0000cf     32\n",
       "Name: Content Id, dtype: int64"
      ]
     },
     "execution_count": 9,
     "metadata": {},
     "output_type": "execute_result"
    }
   ],
   "source": [
    "stacked_data[ (stacked_data[\"day\"] == \"27\") ][\"Content Id\"].value_counts()[:10]"
   ]
  },
  {
   "cell_type": "code",
   "execution_count": 10,
   "metadata": {},
   "outputs": [
    {
     "data": {
      "text/plain": [
       "<matplotlib.axes._subplots.AxesSubplot at 0x7fc7fff610b8>"
      ]
     },
     "execution_count": 10,
     "metadata": {},
     "output_type": "execute_result"
    },
    {
     "data": {
      "image/png": "[encoded data removed]",
      "text/plain": [
       "<Figure size 432x288 with 1 Axes>"
      ]
     },
     "metadata": {
      "needs_background": "light"
     },
     "output_type": "display_data"
    }
   ],
   "source": [
    "sns.distplot(stacked_data[stacked_data[\"Content Id\"] == \"5ba9f646c1df41479a0000cf\"][\"day\"])"
   ]
  },
  {
   "cell_type": "code",
   "execution_count": 11,
   "metadata": {},
   "outputs": [
    {
     "data": {
      "text/plain": [
       "<matplotlib.axes._subplots.AxesSubplot at 0x7fc8031ba6d8>"
      ]
     },
     "execution_count": 11,
     "metadata": {},
     "output_type": "execute_result"
    },
    {
     "data": {
      "image/png": "[encoded data removed]",
      "text/plain": [
       "<Figure size 432x288 with 1 Axes>"
      ]
     },
     "metadata": {
      "needs_background": "light"
     },
     "output_type": "display_data"
    }
   ],
   "source": [
    "sns.distplot(stacked_data[stacked_data[\"Content Id\"] == \"5ba9f639c1df41479a0000cd\"][\"day\"])"
   ]
  },
  {
   "cell_type": "code",
   "execution_count": 20,
   "metadata": {},
   "outputs": [
    {
     "data": {
      "text/plain": [
       "<matplotlib.axes._subplots.AxesSubplot at 0x7fc802de0a20>"
      ]
     },
     "execution_count": 20,
     "metadata": {},
     "output_type": "execute_result"
    },
    {
     "data": {
      "image/png": "[encoded data removed]",
      "text/plain": [
       "<Figure size 432x288 with 1 Axes>"
      ]
     },
     "metadata": {
      "needs_background": "light"
     },
     "output_type": "display_data"
    }
   ],
   "source": [
    "t_vc = stacked_data[\"hour\"].value_counts()\n",
    "sns.barplot(t_vc.index, t_vc.values, alpha=0.8)"
   ]
  },
  {
   "cell_type": "code",
   "execution_count": 19,
   "metadata": {},
   "outputs": [
    {
     "data": {
      "text/plain": [
       "<matplotlib.axes._subplots.AxesSubplot at 0x7fc802ead898>"
      ]
     },
     "execution_count": 19,
     "metadata": {},
     "output_type": "execute_result"
    },
    {
     "data": {
      "image/png": "[encoded data removed]",
      "text/plain": [
       "<Figure size 432x288 with 1 Axes>"
      ]
     },
     "metadata": {
      "needs_background": "light"
     },
     "output_type": "display_data"
    }
   ],
   "source": [
    "t_vc = stacked_data[\"day\"].value_counts()\n",
    "sns.barplot(t_vc.index, t_vc.values, alpha=0.8)"
   ]
  },
  {
   "cell_type": "code",
   "execution_count": 18,
   "metadata": {},
   "outputs": [
    {
     "data": {
      "text/plain": [
       "<matplotlib.axes._subplots.AxesSubplot at 0x7fc802ef0f98>"
      ]
     },
     "execution_count": 18,
     "metadata": {},
     "output_type": "execute_result"
    },
    {
     "data": {
      "image/png": "[encoded data removed]",
      "text/plain": [
       "<Figure size 432x288 with 1 Axes>"
      ]
     },
     "metadata": {
      "needs_background": "light"
     },
     "output_type": "display_data"
    }
   ],
   "source": [
    "t_vc = stacked_data[\"type\"].value_counts()\n",
    "sns.barplot(t_vc.index, t_vc.values, alpha=0.8)"
   ]
  },
  {
   "cell_type": "code",
   "execution_count": null,
   "metadata": {},
   "outputs": [],
   "source": []
  }
 ],
 "metadata": {
  "kernelspec": {
   "display_name": "Python 3",
   "language": "python",
   "name": "python3"
  },
  "language_info": {
   "codemirror_mode": {
    "name": "ipython",
    "version": 3
   },
   "file_extension": ".py",
   "mimetype": "text/x-python",
   "name": "python",
   "nbconvert_exporter": "python",
   "pygments_lexer": "ipython3",
   "version": "3.5.2"
  }
 },
 "nbformat": 4,
 "nbformat_minor": 4
}
