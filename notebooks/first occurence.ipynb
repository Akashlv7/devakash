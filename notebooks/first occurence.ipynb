{
 "cells": [
  {
   "cell_type": "code",
   "execution_count": 4,
   "metadata": {},
   "outputs": [],
   "source": [
    "import pandas as pd\n",
    "import matplotlib.pyplot as plt\n",
    "%matplotlib inline\n",
    "import seaborn as sns"
   ]
  },
  {
   "cell_type": "code",
   "execution_count": 17,
   "metadata": {},
   "outputs": [],
   "source": [
    "from sklearn import tree, neighbors, svm\n",
    "from sklearn.metrics import mean_squared_error\n",
    "from sklearn.ensemble import GradientBoostingRegressor\n",
    "from sklearn.neural_network import MLPRegressor"
   ]
  },
  {
   "cell_type": "code",
   "execution_count": 5,
   "metadata": {},
   "outputs": [],
   "source": [
    "tv_data = pd.read_csv(\"aggregated_data.csv\", usecols = [\"week\", \"day\", \"hour\", \"sub_genre_id\", \"channel_id\", \"users\", \"program_id\"])"
   ]
  },
  {
   "cell_type": "code",
   "execution_count": 6,
   "metadata": {},
   "outputs": [],
   "source": [
    "tv_data[\"day_since\"] = ((tv_data[\"week\"] -1 )* 7) + tv_data[\"day\"]"
   ]
  },
  {
   "cell_type": "code",
   "execution_count": 7,
   "metadata": {},
   "outputs": [],
   "source": [
    "tv_data[\"new\"] = int(0)"
   ]
  },
  {
   "cell_type": "code",
   "execution_count": 8,
   "metadata": {},
   "outputs": [
    {
     "data": {
      "text/html": [
       "<div>\n",
       "<style scoped>\n",
       "    .dataframe tbody tr th:only-of-type {\n",
       "        vertical-align: middle;\n",
       "    }\n",
       "\n",
       "    .dataframe tbody tr th {\n",
       "        vertical-align: top;\n",
       "    }\n",
       "\n",
       "    .dataframe thead th {\n",
       "        text-align: right;\n",
       "    }\n",
       "</style>\n",
       "<table border=\"1\" class=\"dataframe\">\n",
       "  <thead>\n",
       "    <tr style=\"text-align: right;\">\n",
       "      <th></th>\n",
       "      <th>week</th>\n",
       "      <th>day</th>\n",
       "      <th>hour</th>\n",
       "      <th>sub_genre_id</th>\n",
       "      <th>channel_id</th>\n",
       "      <th>program_id</th>\n",
       "      <th>users</th>\n",
       "      <th>day_since</th>\n",
       "      <th>new</th>\n",
       "    </tr>\n",
       "  </thead>\n",
       "  <tbody>\n",
       "    <tr>\n",
       "      <th>0</th>\n",
       "      <td>1</td>\n",
       "      <td>1</td>\n",
       "      <td>1</td>\n",
       "      <td>1</td>\n",
       "      <td>181</td>\n",
       "      <td>366653</td>\n",
       "      <td>5</td>\n",
       "      <td>1</td>\n",
       "      <td>0</td>\n",
       "    </tr>\n",
       "    <tr>\n",
       "      <th>1</th>\n",
       "      <td>1</td>\n",
       "      <td>1</td>\n",
       "      <td>1</td>\n",
       "      <td>3</td>\n",
       "      <td>1</td>\n",
       "      <td>367167</td>\n",
       "      <td>20</td>\n",
       "      <td>1</td>\n",
       "      <td>0</td>\n",
       "    </tr>\n",
       "    <tr>\n",
       "      <th>2</th>\n",
       "      <td>1</td>\n",
       "      <td>1</td>\n",
       "      <td>1</td>\n",
       "      <td>3</td>\n",
       "      <td>4</td>\n",
       "      <td>68785</td>\n",
       "      <td>34</td>\n",
       "      <td>1</td>\n",
       "      <td>0</td>\n",
       "    </tr>\n",
       "    <tr>\n",
       "      <th>3</th>\n",
       "      <td>1</td>\n",
       "      <td>1</td>\n",
       "      <td>1</td>\n",
       "      <td>5</td>\n",
       "      <td>38</td>\n",
       "      <td>11568</td>\n",
       "      <td>5</td>\n",
       "      <td>1</td>\n",
       "      <td>0</td>\n",
       "    </tr>\n",
       "    <tr>\n",
       "      <th>4</th>\n",
       "      <td>1</td>\n",
       "      <td>1</td>\n",
       "      <td>1</td>\n",
       "      <td>9</td>\n",
       "      <td>6</td>\n",
       "      <td>177908</td>\n",
       "      <td>90</td>\n",
       "      <td>1</td>\n",
       "      <td>0</td>\n",
       "    </tr>\n",
       "  </tbody>\n",
       "</table>\n",
       "</div>"
      ],
      "text/plain": [
       "   week  day  hour  sub_genre_id  channel_id  program_id  users  day_since  \\\n",
       "0     1    1     1             1         181      366653      5          1   \n",
       "1     1    1     1             3           1      367167     20          1   \n",
       "2     1    1     1             3           4       68785     34          1   \n",
       "3     1    1     1             5          38       11568      5          1   \n",
       "4     1    1     1             9           6      177908     90          1   \n",
       "\n",
       "   new  \n",
       "0    0  \n",
       "1    0  \n",
       "2    0  \n",
       "3    0  \n",
       "4    0  "
      ]
     },
     "execution_count": 8,
     "metadata": {},
     "output_type": "execute_result"
    }
   ],
   "source": [
    "tv_data.head()"
   ]
  },
  {
   "cell_type": "code",
   "execution_count": 10,
   "metadata": {},
   "outputs": [
    {
     "name": "stderr",
     "output_type": "stream",
     "text": [
      "/home/yogesh/anaconda3/lib/python3.6/site-packages/ipykernel_launcher.py:2: SettingWithCopyWarning: \n",
      "A value is trying to be set on a copy of a slice from a DataFrame.\n",
      "Try using .loc[row_indexer,col_indexer] = value instead\n",
      "\n",
      "See the caveats in the documentation: http://pandas.pydata.org/pandas-docs/stable/indexing.html#indexing-view-versus-copy\n",
      "  \n"
     ]
    }
   ],
   "source": [
    "unique_programs_filter = tv_data.drop_duplicates(subset =[\"program_id\"], keep = \"first\", inplace = False)\n",
    "unique_programs_filter[\"new\"] = int(1)\n",
    "tv_data[\"new\"].update(unique_programs_filter[\"new\"].astype(int))"
   ]
  },
  {
   "cell_type": "code",
   "execution_count": 11,
   "metadata": {},
   "outputs": [],
   "source": [
    "#tv_data[tv_data[\"new\"] == 1]"
   ]
  },
  {
   "cell_type": "code",
   "execution_count": 12,
   "metadata": {},
   "outputs": [],
   "source": [
    "train_data = tv_data[(tv_data[\"week\"] < 13) & (tv_data[\"new\"] == 1) ]\n",
    "\n",
    "test_data = tv_data[(tv_data[\"week\"] == 13)  & (tv_data[\"new\"] == 1) & (tv_data[\"channel_id\"].isin(train_data[\"channel_id\"].unique()))  ]"
   ]
  },
  {
   "cell_type": "code",
   "execution_count": 13,
   "metadata": {},
   "outputs": [
    {
     "name": "stdout",
     "output_type": "stream",
     "text": [
      "(582, 9)\n",
      "(12540, 9)\n"
     ]
    }
   ],
   "source": [
    "print (test_data.shape)\n",
    "print (train_data.shape)"
   ]
  },
  {
   "cell_type": "code",
   "execution_count": 14,
   "metadata": {},
   "outputs": [],
   "source": [
    "Y_train = train_data[\"users\"]\n",
    "X_train = train_data[[\"day\", \"hour\", \"channel_id\", \"sub_genre_id\"]]"
   ]
  },
  {
   "cell_type": "code",
   "execution_count": 15,
   "metadata": {},
   "outputs": [],
   "source": [
    "Y_test = test_data[\"users\"]\n",
    "X_test = test_data[[\"day\", \"hour\", \"channel_id\", \"sub_genre_id\"]]\n"
   ]
  },
  {
   "cell_type": "code",
   "execution_count": 18,
   "metadata": {},
   "outputs": [],
   "source": [
    "reg = GradientBoostingRegressor(n_estimators=1300, learning_rate=0.1, max_depth=5, subsample=1.0,max_features =1, random_state=0, loss='ls')"
   ]
  },
  {
   "cell_type": "code",
   "execution_count": 19,
   "metadata": {},
   "outputs": [
    {
     "data": {
      "text/plain": [
       "GradientBoostingRegressor(alpha=0.9, criterion='friedman_mse', init=None,\n",
       "             learning_rate=0.1, loss='ls', max_depth=5, max_features=1,\n",
       "             max_leaf_nodes=None, min_impurity_decrease=0.0,\n",
       "             min_impurity_split=None, min_samples_leaf=1,\n",
       "             min_samples_split=2, min_weight_fraction_leaf=0.0,\n",
       "             n_estimators=1300, presort='auto', random_state=0,\n",
       "             subsample=1.0, verbose=0, warm_start=False)"
      ]
     },
     "execution_count": 19,
     "metadata": {},
     "output_type": "execute_result"
    }
   ],
   "source": [
    "reg.fit(X_train.values, Y_train.values)"
   ]
  },
  {
   "cell_type": "code",
   "execution_count": 20,
   "metadata": {},
   "outputs": [
    {
     "name": "stdout",
     "output_type": "stream",
     "text": [
      "1082.1757531099827\n"
     ]
    }
   ],
   "source": [
    "print (mean_squared_error(reg.predict(X_train.values),Y_train.values))"
   ]
  },
  {
   "cell_type": "code",
   "execution_count": 21,
   "metadata": {},
   "outputs": [
    {
     "name": "stdout",
     "output_type": "stream",
     "text": [
      "4118.853058377224\n"
     ]
    }
   ],
   "source": [
    "print (mean_squared_error(reg.predict(X_test.values),Y_test.values))"
   ]
  },
  {
   "cell_type": "code",
   "execution_count": 181,
   "metadata": {},
   "outputs": [
    {
     "data": {
      "text/plain": [
       "['filename.joblib']"
      ]
     },
     "execution_count": 181,
     "metadata": {},
     "output_type": "execute_result"
    }
   ],
   "source": [
    "from joblib import dump, load\n",
    "dump(reg, 'filename.joblib') "
   ]
  },
  {
   "cell_type": "code",
   "execution_count": 23,
   "metadata": {},
   "outputs": [],
   "source": [
    "test_sample = test_data[(test_data[\"hour\"] == 18) ]"
   ]
  },
  {
   "cell_type": "code",
   "execution_count": 24,
   "metadata": {},
   "outputs": [
    {
     "name": "stderr",
     "output_type": "stream",
     "text": [
      "/home/yogesh/anaconda3/lib/python3.6/site-packages/ipykernel_launcher.py:1: SettingWithCopyWarning: \n",
      "A value is trying to be set on a copy of a slice from a DataFrame.\n",
      "Try using .loc[row_indexer,col_indexer] = value instead\n",
      "\n",
      "See the caveats in the documentation: http://pandas.pydata.org/pandas-docs/stable/indexing.html#indexing-view-versus-copy\n",
      "  \"\"\"Entry point for launching an IPython kernel.\n"
     ]
    }
   ],
   "source": [
    "test_sample[\"predicted\"] = reg.predict(test_sample[[  \"day\", \"hour\", \"channel_id\", \"sub_genre_id\"]])"
   ]
  },
  {
   "cell_type": "code",
   "execution_count": 27,
   "metadata": {},
   "outputs": [
    {
     "data": {
      "text/html": [
       "<div>\n",
       "<style scoped>\n",
       "    .dataframe tbody tr th:only-of-type {\n",
       "        vertical-align: middle;\n",
       "    }\n",
       "\n",
       "    .dataframe tbody tr th {\n",
       "        vertical-align: top;\n",
       "    }\n",
       "\n",
       "    .dataframe thead th {\n",
       "        text-align: right;\n",
       "    }\n",
       "</style>\n",
       "<table border=\"1\" class=\"dataframe\">\n",
       "  <thead>\n",
       "    <tr style=\"text-align: right;\">\n",
       "      <th></th>\n",
       "      <th>week</th>\n",
       "      <th>day</th>\n",
       "      <th>hour</th>\n",
       "      <th>sub_genre_id</th>\n",
       "      <th>channel_id</th>\n",
       "      <th>program_id</th>\n",
       "      <th>users</th>\n",
       "      <th>day_since</th>\n",
       "      <th>new</th>\n",
       "      <th>predicted</th>\n",
       "    </tr>\n",
       "  </thead>\n",
       "  <tbody>\n",
       "    <tr>\n",
       "      <th>213986</th>\n",
       "      <td>13</td>\n",
       "      <td>5</td>\n",
       "      <td>18</td>\n",
       "      <td>16</td>\n",
       "      <td>5</td>\n",
       "      <td>378687</td>\n",
       "      <td>259</td>\n",
       "      <td>89</td>\n",
       "      <td>1</td>\n",
       "      <td>181.287332</td>\n",
       "    </tr>\n",
       "    <tr>\n",
       "      <th>204640</th>\n",
       "      <td>13</td>\n",
       "      <td>1</td>\n",
       "      <td>18</td>\n",
       "      <td>42</td>\n",
       "      <td>5</td>\n",
       "      <td>32572</td>\n",
       "      <td>183</td>\n",
       "      <td>85</td>\n",
       "      <td>1</td>\n",
       "      <td>178.255576</td>\n",
       "    </tr>\n",
       "    <tr>\n",
       "      <th>218895</th>\n",
       "      <td>13</td>\n",
       "      <td>7</td>\n",
       "      <td>18</td>\n",
       "      <td>3</td>\n",
       "      <td>5</td>\n",
       "      <td>42309</td>\n",
       "      <td>182</td>\n",
       "      <td>91</td>\n",
       "      <td>1</td>\n",
       "      <td>214.783649</td>\n",
       "    </tr>\n",
       "    <tr>\n",
       "      <th>204591</th>\n",
       "      <td>13</td>\n",
       "      <td>1</td>\n",
       "      <td>18</td>\n",
       "      <td>28</td>\n",
       "      <td>6</td>\n",
       "      <td>377386</td>\n",
       "      <td>177</td>\n",
       "      <td>85</td>\n",
       "      <td>1</td>\n",
       "      <td>164.710667</td>\n",
       "    </tr>\n",
       "    <tr>\n",
       "      <th>213987</th>\n",
       "      <td>13</td>\n",
       "      <td>5</td>\n",
       "      <td>18</td>\n",
       "      <td>16</td>\n",
       "      <td>20</td>\n",
       "      <td>378327</td>\n",
       "      <td>71</td>\n",
       "      <td>89</td>\n",
       "      <td>1</td>\n",
       "      <td>9.606925</td>\n",
       "    </tr>\n",
       "    <tr>\n",
       "      <th>218929</th>\n",
       "      <td>13</td>\n",
       "      <td>7</td>\n",
       "      <td>18</td>\n",
       "      <td>17</td>\n",
       "      <td>97</td>\n",
       "      <td>378123</td>\n",
       "      <td>60</td>\n",
       "      <td>91</td>\n",
       "      <td>1</td>\n",
       "      <td>61.630054</td>\n",
       "    </tr>\n",
       "    <tr>\n",
       "      <th>204544</th>\n",
       "      <td>13</td>\n",
       "      <td>1</td>\n",
       "      <td>18</td>\n",
       "      <td>3</td>\n",
       "      <td>173</td>\n",
       "      <td>345903</td>\n",
       "      <td>53</td>\n",
       "      <td>85</td>\n",
       "      <td>1</td>\n",
       "      <td>47.424463</td>\n",
       "    </tr>\n",
       "    <tr>\n",
       "      <th>218928</th>\n",
       "      <td>13</td>\n",
       "      <td>7</td>\n",
       "      <td>18</td>\n",
       "      <td>17</td>\n",
       "      <td>94</td>\n",
       "      <td>70896</td>\n",
       "      <td>36</td>\n",
       "      <td>91</td>\n",
       "      <td>1</td>\n",
       "      <td>25.832415</td>\n",
       "    </tr>\n",
       "    <tr>\n",
       "      <th>216404</th>\n",
       "      <td>13</td>\n",
       "      <td>6</td>\n",
       "      <td>18</td>\n",
       "      <td>9</td>\n",
       "      <td>134</td>\n",
       "      <td>378884</td>\n",
       "      <td>32</td>\n",
       "      <td>90</td>\n",
       "      <td>1</td>\n",
       "      <td>7.721009</td>\n",
       "    </tr>\n",
       "    <tr>\n",
       "      <th>213988</th>\n",
       "      <td>13</td>\n",
       "      <td>5</td>\n",
       "      <td>18</td>\n",
       "      <td>16</td>\n",
       "      <td>42</td>\n",
       "      <td>377956</td>\n",
       "      <td>19</td>\n",
       "      <td>89</td>\n",
       "      <td>1</td>\n",
       "      <td>-1.414314</td>\n",
       "    </tr>\n",
       "  </tbody>\n",
       "</table>\n",
       "</div>"
      ],
      "text/plain": [
       "        week  day  hour  sub_genre_id  channel_id  program_id  users  \\\n",
       "213986    13    5    18            16           5      378687    259   \n",
       "204640    13    1    18            42           5       32572    183   \n",
       "218895    13    7    18             3           5       42309    182   \n",
       "204591    13    1    18            28           6      377386    177   \n",
       "213987    13    5    18            16          20      378327     71   \n",
       "218929    13    7    18            17          97      378123     60   \n",
       "204544    13    1    18             3         173      345903     53   \n",
       "218928    13    7    18            17          94       70896     36   \n",
       "216404    13    6    18             9         134      378884     32   \n",
       "213988    13    5    18            16          42      377956     19   \n",
       "\n",
       "        day_since  new   predicted  \n",
       "213986         89    1  181.287332  \n",
       "204640         85    1  178.255576  \n",
       "218895         91    1  214.783649  \n",
       "204591         85    1  164.710667  \n",
       "213987         89    1    9.606925  \n",
       "218929         91    1   61.630054  \n",
       "204544         85    1   47.424463  \n",
       "218928         91    1   25.832415  \n",
       "216404         90    1    7.721009  \n",
       "213988         89    1   -1.414314  "
      ]
     },
     "execution_count": 27,
     "metadata": {},
     "output_type": "execute_result"
    }
   ],
   "source": [
    "test_sample.sort_values(by=['users'], ascending=False)[:10]"
   ]
  },
  {
   "cell_type": "code",
   "execution_count": null,
   "metadata": {},
   "outputs": [],
   "source": []
  }
 ],
 "metadata": {
  "kernelspec": {
   "display_name": "Python 3",
   "language": "python",
   "name": "python3"
  },
  "language_info": {
   "codemirror_mode": {
    "name": "ipython",
    "version": 3
   },
   "file_extension": ".py",
   "mimetype": "text/x-python",
   "name": "python",
   "nbconvert_exporter": "python",
   "pygments_lexer": "ipython3",
   "version": "3.6.9"
  }
 },
 "nbformat": 4,
 "nbformat_minor": 2
}
