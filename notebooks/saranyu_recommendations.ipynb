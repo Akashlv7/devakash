{
 "cells": [
  {
   "cell_type": "code",
   "execution_count": 1,
   "metadata": {
    "_cell_guid": "b1076dfc-b9ad-4769-8c92-a6c4dae69d19",
    "_uuid": "8f2839f25d086af736a60e9eeb907d3b93b6e0e5"
   },
   "outputs": [],
   "source": [
    "import numpy as np # linear algebra\n",
    "import pandas as pd # data processing, CSV file I/O (e.g. pd.read_csv)"
   ]
  },
  {
   "cell_type": "code",
   "execution_count": null,
   "metadata": {
    "_cell_guid": "79c7e3d0-c299-4dcb-8224-4455121ee9b0",
    "_uuid": "d629ff2d2480ee46fbb7e2d37f6b5fab8052498a"
   },
   "outputs": [],
   "source": []
  },
  {
   "cell_type": "code",
   "execution_count": 2,
   "metadata": {},
   "outputs": [],
   "source": [
    "from rankfm.rankfm import RankFM\n",
    "from rankfm.evaluation import hit_rate, precision, recall"
   ]
  },
  {
   "cell_type": "code",
   "execution_count": 4,
   "metadata": {},
   "outputs": [],
   "source": [
    "from sklearn.model_selection import train_test_split"
   ]
  },
  {
   "cell_type": "code",
   "execution_count": 7,
   "metadata": {},
   "outputs": [],
   "source": [
    "saranyu_data = pd.read_excel(\"../data/Userdataxmetrics.xlsx\")"
   ]
  },
  {
   "cell_type": "code",
   "execution_count": 8,
   "metadata": {},
   "outputs": [],
   "source": [
    "saranyu_data[\"u_content_id\"] = saranyu_data[\"Content Id\"] + saranyu_data[\"Catalog id\"]"
   ]
  },
  {
   "cell_type": "code",
   "execution_count": 9,
   "metadata": {},
   "outputs": [
    {
     "data": {
      "text/plain": [
       "4413"
      ]
     },
     "execution_count": 9,
     "metadata": {},
     "output_type": "execute_result"
    }
   ],
   "source": [
    "len(saranyu_data[\"u_content_id\"].unique())"
   ]
  },
  {
   "cell_type": "code",
   "execution_count": 10,
   "metadata": {},
   "outputs": [
    {
     "data": {
      "text/html": [
       "<div>\n",
       "<style scoped>\n",
       "    .dataframe tbody tr th:only-of-type {\n",
       "        vertical-align: middle;\n",
       "    }\n",
       "\n",
       "    .dataframe tbody tr th {\n",
       "        vertical-align: top;\n",
       "    }\n",
       "\n",
       "    .dataframe thead th {\n",
       "        text-align: right;\n",
       "    }\n",
       "</style>\n",
       "<table border=\"1\" class=\"dataframe\">\n",
       "  <thead>\n",
       "    <tr style=\"text-align: right;\">\n",
       "      <th></th>\n",
       "      <th>User Id</th>\n",
       "      <th>u_content_id</th>\n",
       "    </tr>\n",
       "  </thead>\n",
       "  <tbody>\n",
       "    <tr>\n",
       "      <th>0</th>\n",
       "      <td>4139925</td>\n",
       "      <td>5f22f3eca609d206c800c6ea5b8d119ac1df411ca70000c1</td>\n",
       "    </tr>\n",
       "    <tr>\n",
       "      <th>1</th>\n",
       "      <td>6574673</td>\n",
       "      <td>5bbae9b5c1df41235200000c5b8d119ac1df411ca70000c1</td>\n",
       "    </tr>\n",
       "    <tr>\n",
       "      <th>2</th>\n",
       "      <td>5157378</td>\n",
       "      <td>5e380d9aed8f7d087a0000045c8794d0a58c4046c8000235</td>\n",
       "    </tr>\n",
       "    <tr>\n",
       "      <th>3</th>\n",
       "      <td>6574804</td>\n",
       "      <td>5cbf32c8ed8f7d11e80005425b8d119ac1df411ca70000c1</td>\n",
       "    </tr>\n",
       "    <tr>\n",
       "      <th>4</th>\n",
       "      <td>6574804</td>\n",
       "      <td>5f22f3eca609d206c800c6ea5b8d119ac1df411ca70000c1</td>\n",
       "    </tr>\n",
       "  </tbody>\n",
       "</table>\n",
       "</div>"
      ],
      "text/plain": [
       "   User Id                                      u_content_id\n",
       "0  4139925  5f22f3eca609d206c800c6ea5b8d119ac1df411ca70000c1\n",
       "1  6574673  5bbae9b5c1df41235200000c5b8d119ac1df411ca70000c1\n",
       "2  5157378  5e380d9aed8f7d087a0000045c8794d0a58c4046c8000235\n",
       "3  6574804  5cbf32c8ed8f7d11e80005425b8d119ac1df411ca70000c1\n",
       "4  6574804  5f22f3eca609d206c800c6ea5b8d119ac1df411ca70000c1"
      ]
     },
     "execution_count": 10,
     "metadata": {},
     "output_type": "execute_result"
    }
   ],
   "source": [
    "als_data = saranyu_data[[\"User Id\", \"u_content_id\"]]\n",
    "als_data.head()"
   ]
  },
  {
   "cell_type": "code",
   "execution_count": 11,
   "metadata": {},
   "outputs": [],
   "source": [
    "X_train, X_test, y_train, y_test = train_test_split(als_data, als_data, test_size=0.33, random_state=42)"
   ]
  },
  {
   "cell_type": "code",
   "execution_count": 12,
   "metadata": {},
   "outputs": [],
   "source": [
    "c_vc= X_train[\"u_content_id\"].value_counts()"
   ]
  },
  {
   "cell_type": "code",
   "execution_count": 13,
   "metadata": {},
   "outputs": [
    {
     "data": {
      "text/plain": [
       "5f169473a609d206c800673e5f168feca609d206c800673d    2994\n",
       "5ba9f639c1df41479a0000cd5b8e9148c1df41291800009a    2971\n",
       "5f1adfa1a609d206c8008c185f168feca609d206c800673d    1570\n",
       "5f2c38d9a609d206c800f9c35b8d119ac1df411ca70000c1    1206\n",
       "5f1adfa1a609d206c8008c145f168feca609d206c800673d     964\n",
       "                                                    ... \n",
       "5dd7db4eed8f7d6af6002bd35b8e9148c1df41291800009a     104\n",
       "5ba8cdadc1df413dae0002595b8d1076c1df411ca70000c0     102\n",
       "5cc1b073ed8f7d76e900001c5b8d1076c1df411ca70000c0     102\n",
       "5b9fb6c7c1df4145340001175b8d1076c1df411ca70000c0     101\n",
       "5d28aff0ed8f7d2a040002335b8d1076c1df411ca70000c0     101\n",
       "Name: u_content_id, Length: 133, dtype: int64"
      ]
     },
     "execution_count": 13,
     "metadata": {},
     "output_type": "execute_result"
    }
   ],
   "source": [
    "c_vc[c_vc>100]"
   ]
  },
  {
   "cell_type": "code",
   "execution_count": 14,
   "metadata": {},
   "outputs": [
    {
     "name": "stdout",
     "output_type": "stream",
     "text": [
      "\n",
      "training epoch: 0\n",
      "log likelihood: -35155.44921875\n",
      "\n",
      "training epoch: 1\n",
      "log likelihood: -34367.609375\n",
      "\n",
      "training epoch: 2\n",
      "log likelihood: -33633.921875\n",
      "\n",
      "training epoch: 3\n",
      "log likelihood: -32450.619140625\n",
      "\n",
      "training epoch: 4\n",
      "log likelihood: -31186.099609375\n",
      "\n",
      "training epoch: 5\n",
      "log likelihood: -29975.619140625\n",
      "\n",
      "training epoch: 6\n",
      "log likelihood: -28617.3203125\n",
      "\n",
      "training epoch: 7\n",
      "log likelihood: -27658.76953125\n",
      "\n",
      "training epoch: 8\n",
      "log likelihood: -26648.55078125\n",
      "\n",
      "training epoch: 9\n",
      "log likelihood: -25759.740234375\n",
      "\n",
      "training epoch: 10\n",
      "log likelihood: -24957.630859375\n",
      "\n",
      "training epoch: 11\n",
      "log likelihood: -24139.9296875\n",
      "\n",
      "training epoch: 12\n",
      "log likelihood: -23431.060546875\n",
      "\n",
      "training epoch: 13\n",
      "log likelihood: -22665.4609375\n",
      "\n",
      "training epoch: 14\n",
      "log likelihood: -21903.73046875\n",
      "\n",
      "training epoch: 15\n",
      "log likelihood: -21367.580078125\n",
      "\n",
      "training epoch: 16\n",
      "log likelihood: -20800.2890625\n",
      "\n",
      "training epoch: 17\n",
      "log likelihood: -20346.4609375\n",
      "\n",
      "training epoch: 18\n",
      "log likelihood: -19783.41015625\n",
      "\n",
      "training epoch: 19\n",
      "log likelihood: -19326.599609375\n"
     ]
    }
   ],
   "source": [
    "model = RankFM(factors=50, loss='warp', max_samples=20, alpha=0.01, sigma=0.1, learning_rate=0.20, learning_schedule='invscaling')\n",
    "model.fit(X_train, epochs=20, verbose=True)"
   ]
  },
  {
   "cell_type": "code",
   "execution_count": 15,
   "metadata": {},
   "outputs": [
    {
     "data": {
      "text/html": [
       "<div>\n",
       "<style scoped>\n",
       "    .dataframe tbody tr th:only-of-type {\n",
       "        vertical-align: middle;\n",
       "    }\n",
       "\n",
       "    .dataframe tbody tr th {\n",
       "        vertical-align: top;\n",
       "    }\n",
       "\n",
       "    .dataframe thead th {\n",
       "        text-align: right;\n",
       "    }\n",
       "</style>\n",
       "<table border=\"1\" class=\"dataframe\">\n",
       "  <thead>\n",
       "    <tr style=\"text-align: right;\">\n",
       "      <th></th>\n",
       "      <th>0</th>\n",
       "      <th>1</th>\n",
       "      <th>2</th>\n",
       "    </tr>\n",
       "    <tr>\n",
       "      <th>User Id</th>\n",
       "      <th></th>\n",
       "      <th></th>\n",
       "      <th></th>\n",
       "    </tr>\n",
       "  </thead>\n",
       "  <tbody>\n",
       "    <tr>\n",
       "      <th>4139925</th>\n",
       "      <td>5f169473a609d206c800673e5f168feca609d206c800673d</td>\n",
       "      <td>5ba9f639c1df41479a0000cd5b8e9148c1df41291800009a</td>\n",
       "      <td>5f1adfa1a609d206c8008c185f168feca609d206c800673d</td>\n",
       "    </tr>\n",
       "    <tr>\n",
       "      <th>6574673</th>\n",
       "      <td>5ba9f639c1df41479a0000cd5b8e9148c1df41291800009a</td>\n",
       "      <td>5f169473a609d206c800673e5f168feca609d206c800673d</td>\n",
       "      <td>5bbae9b5c1df41235200000c5b8d119ac1df411ca70000c1</td>\n",
       "    </tr>\n",
       "    <tr>\n",
       "      <th>5157378</th>\n",
       "      <td>5ba9f639c1df41479a0000cd5b8e9148c1df41291800009a</td>\n",
       "      <td>5f169473a609d206c800673e5f168feca609d206c800673d</td>\n",
       "      <td>5f1adfa1a609d206c8008c185f168feca609d206c800673d</td>\n",
       "    </tr>\n",
       "    <tr>\n",
       "      <th>6574804</th>\n",
       "      <td>5f169473a609d206c800673e5f168feca609d206c800673d</td>\n",
       "      <td>5ba9f639c1df41479a0000cd5b8e9148c1df41291800009a</td>\n",
       "      <td>5f1adfa1a609d206c8008c185f168feca609d206c800673d</td>\n",
       "    </tr>\n",
       "  </tbody>\n",
       "</table>\n",
       "</div>"
      ],
      "text/plain": [
       "                                                        0  \\\n",
       "User Id                                                     \n",
       "4139925  5f169473a609d206c800673e5f168feca609d206c800673d   \n",
       "6574673  5ba9f639c1df41479a0000cd5b8e9148c1df41291800009a   \n",
       "5157378  5ba9f639c1df41479a0000cd5b8e9148c1df41291800009a   \n",
       "6574804  5f169473a609d206c800673e5f168feca609d206c800673d   \n",
       "\n",
       "                                                        1  \\\n",
       "User Id                                                     \n",
       "4139925  5ba9f639c1df41479a0000cd5b8e9148c1df41291800009a   \n",
       "6574673  5f169473a609d206c800673e5f168feca609d206c800673d   \n",
       "5157378  5f169473a609d206c800673e5f168feca609d206c800673d   \n",
       "6574804  5ba9f639c1df41479a0000cd5b8e9148c1df41291800009a   \n",
       "\n",
       "                                                        2  \n",
       "User Id                                                    \n",
       "4139925  5f1adfa1a609d206c8008c185f168feca609d206c800673d  \n",
       "6574673  5bbae9b5c1df41235200000c5b8d119ac1df411ca70000c1  \n",
       "5157378  5f1adfa1a609d206c8008c185f168feca609d206c800673d  \n",
       "6574804  5f1adfa1a609d206c8008c185f168feca609d206c800673d  "
      ]
     },
     "execution_count": 15,
     "metadata": {},
     "output_type": "execute_result"
    }
   ],
   "source": [
    "model.recommend(saranyu_data[\"User Id\"][0:4], n_items=3)"
   ]
  },
  {
   "cell_type": "code",
   "execution_count": 16,
   "metadata": {},
   "outputs": [
    {
     "data": {
      "text/html": [
       "<div>\n",
       "<style scoped>\n",
       "    .dataframe tbody tr th:only-of-type {\n",
       "        vertical-align: middle;\n",
       "    }\n",
       "\n",
       "    .dataframe tbody tr th {\n",
       "        vertical-align: top;\n",
       "    }\n",
       "\n",
       "    .dataframe thead th {\n",
       "        text-align: right;\n",
       "    }\n",
       "</style>\n",
       "<table border=\"1\" class=\"dataframe\">\n",
       "  <thead>\n",
       "    <tr style=\"text-align: right;\">\n",
       "      <th></th>\n",
       "      <th>User Id</th>\n",
       "      <th>u_content_id</th>\n",
       "    </tr>\n",
       "  </thead>\n",
       "  <tbody>\n",
       "    <tr>\n",
       "      <th>0</th>\n",
       "      <td>4139925</td>\n",
       "      <td>5f22f3eca609d206c800c6ea5b8d119ac1df411ca70000c1</td>\n",
       "    </tr>\n",
       "    <tr>\n",
       "      <th>1</th>\n",
       "      <td>6574673</td>\n",
       "      <td>5bbae9b5c1df41235200000c5b8d119ac1df411ca70000c1</td>\n",
       "    </tr>\n",
       "    <tr>\n",
       "      <th>2</th>\n",
       "      <td>5157378</td>\n",
       "      <td>5e380d9aed8f7d087a0000045c8794d0a58c4046c8000235</td>\n",
       "    </tr>\n",
       "    <tr>\n",
       "      <th>3</th>\n",
       "      <td>6574804</td>\n",
       "      <td>5cbf32c8ed8f7d11e80005425b8d119ac1df411ca70000c1</td>\n",
       "    </tr>\n",
       "    <tr>\n",
       "      <th>4</th>\n",
       "      <td>6574804</td>\n",
       "      <td>5f22f3eca609d206c800c6ea5b8d119ac1df411ca70000c1</td>\n",
       "    </tr>\n",
       "    <tr>\n",
       "      <th>5</th>\n",
       "      <td>6574849</td>\n",
       "      <td>5cdc2c3bed8f7d7618002a275c8794d0a58c4046c8000235</td>\n",
       "    </tr>\n",
       "    <tr>\n",
       "      <th>6</th>\n",
       "      <td>6574849</td>\n",
       "      <td>5e380d9aed8f7d087a0000045c8794d0a58c4046c8000235</td>\n",
       "    </tr>\n",
       "    <tr>\n",
       "      <th>7</th>\n",
       "      <td>6574847</td>\n",
       "      <td>5ba9f639c1df41479a0000cd5b8e9148c1df41291800009a</td>\n",
       "    </tr>\n",
       "    <tr>\n",
       "      <th>8</th>\n",
       "      <td>6574876</td>\n",
       "      <td>5ba8d46ec1df413dae0002c55b8d119ac1df411ca70000c1</td>\n",
       "    </tr>\n",
       "    <tr>\n",
       "      <th>9</th>\n",
       "      <td>6574836</td>\n",
       "      <td>5dd66f49ed8f7d6af600216b5c94ebaeed8f7d5ede004ddf</td>\n",
       "    </tr>\n",
       "  </tbody>\n",
       "</table>\n",
       "</div>"
      ],
      "text/plain": [
       "   User Id                                      u_content_id\n",
       "0  4139925  5f22f3eca609d206c800c6ea5b8d119ac1df411ca70000c1\n",
       "1  6574673  5bbae9b5c1df41235200000c5b8d119ac1df411ca70000c1\n",
       "2  5157378  5e380d9aed8f7d087a0000045c8794d0a58c4046c8000235\n",
       "3  6574804  5cbf32c8ed8f7d11e80005425b8d119ac1df411ca70000c1\n",
       "4  6574804  5f22f3eca609d206c800c6ea5b8d119ac1df411ca70000c1\n",
       "5  6574849  5cdc2c3bed8f7d7618002a275c8794d0a58c4046c8000235\n",
       "6  6574849  5e380d9aed8f7d087a0000045c8794d0a58c4046c8000235\n",
       "7  6574847  5ba9f639c1df41479a0000cd5b8e9148c1df41291800009a\n",
       "8  6574876  5ba8d46ec1df413dae0002c55b8d119ac1df411ca70000c1\n",
       "9  6574836  5dd66f49ed8f7d6af600216b5c94ebaeed8f7d5ede004ddf"
      ]
     },
     "execution_count": 16,
     "metadata": {},
     "output_type": "execute_result"
    }
   ],
   "source": [
    "als_data[0:10]"
   ]
  },
  {
   "cell_type": "code",
   "execution_count": 17,
   "metadata": {},
   "outputs": [
    {
     "data": {
      "text/plain": [
       "0.391240398757967"
      ]
     },
     "execution_count": 17,
     "metadata": {},
     "output_type": "execute_result"
    }
   ],
   "source": [
    "hit_rate(model, X_test, k=10)"
   ]
  },
  {
   "cell_type": "code",
   "execution_count": 18,
   "metadata": {},
   "outputs": [
    {
     "name": "stdout",
     "output_type": "stream",
     "text": [
      "        User Id                                      u_content_id\n",
      "62789   6768505  5f169473a609d206c800673e5f168feca609d206c800673d\n",
      "52765   6769466  5ba90b6dc1df413dae0004315b8d1076c1df411ca70000c0\n",
      "58359   3018314  5f359fbfa609d2069f0028ca5b8d119ac1df411ca70000c1\n",
      "47138   6684344  5f37ffbfa609d2069f0036c25c94ebaeed8f7d5ede004ddf\n",
      "35768   6646717  5f1adfa1a609d206c8008c145f168feca609d206c800673d\n",
      "23767   4975226  5c8a7f5ea58c4046b30030d85c8794d0a58c4046c8000235\n",
      "45625   4988432  5baa33c3c1df41479a0002e95b915374c1df4113ce00004e\n",
      "54027   6217109  5dd7dc8aed8f7d6af6002be05b8d1295c1df411ca70000c2\n",
      "84547   4894117  5f3ebf67a609d2069f00644c5b8d119ac1df411ca70000c1\n",
      "106575  4150972  5ece960fa609d248b90006cd5b8d119ac1df411ca70000c1\n"
     ]
    }
   ],
   "source": [
    "print (X_test[:10])"
   ]
  },
  {
   "cell_type": "code",
   "execution_count": 19,
   "metadata": {},
   "outputs": [
    {
     "data": {
      "text/plain": [
       "0.08065043307730022"
      ]
     },
     "execution_count": 19,
     "metadata": {},
     "output_type": "execute_result"
    }
   ],
   "source": [
    "hit_rate(model, X_test, k=1)"
   ]
  },
  {
   "cell_type": "code",
   "execution_count": null,
   "metadata": {},
   "outputs": [],
   "source": []
  }
 ],
 "metadata": {
  "kernelspec": {
   "display_name": "Python 3",
   "language": "python",
   "name": "python3"
  },
  "language_info": {
   "codemirror_mode": {
    "name": "ipython",
    "version": 3
   },
   "file_extension": ".py",
   "mimetype": "text/x-python",
   "name": "python",
   "nbconvert_exporter": "python",
   "pygments_lexer": "ipython3",
   "version": "3.8.5"
  }
 },
 "nbformat": 4,
 "nbformat_minor": 4
}
