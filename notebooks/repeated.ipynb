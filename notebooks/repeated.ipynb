{
 "cells": [
  {
   "cell_type": "code",
   "execution_count": 1,
   "metadata": {},
   "outputs": [],
   "source": [
    "import pandas as pd\n",
    "import matplotlib.pyplot as plt\n",
    "%matplotlib inline\n",
    "import seaborn as sns"
   ]
  },
  {
   "cell_type": "code",
   "execution_count": 16,
   "metadata": {},
   "outputs": [],
   "source": [
    "from sklearn import tree, neighbors, svm\n",
    "from sklearn.metrics import mean_squared_error\n",
    "from sklearn.ensemble import GradientBoostingRegressor\n",
    "from sklearn.neural_network import MLPRegressor"
   ]
  },
  {
   "cell_type": "code",
   "execution_count": 2,
   "metadata": {},
   "outputs": [],
   "source": [
    "tv_data = pd.read_csv(\"aggregated_data.csv\", usecols = [\"week\", \"day\", \"hour\", \"sub_genre_id\", \"channel_id\", \"users\", \"program_id\"])"
   ]
  },
  {
   "cell_type": "code",
   "execution_count": 3,
   "metadata": {},
   "outputs": [],
   "source": [
    "tv_data[\"day_since\"] = ((tv_data[\"week\"] -1 )* 7) + tv_data[\"day\"]"
   ]
  },
  {
   "cell_type": "code",
   "execution_count": 5,
   "metadata": {},
   "outputs": [],
   "source": [
    "tv_data[\"new\"] = 0"
   ]
  },
  {
   "cell_type": "code",
   "execution_count": 6,
   "metadata": {},
   "outputs": [
    {
     "data": {
      "text/html": [
       "<div>\n",
       "<style scoped>\n",
       "    .dataframe tbody tr th:only-of-type {\n",
       "        vertical-align: middle;\n",
       "    }\n",
       "\n",
       "    .dataframe tbody tr th {\n",
       "        vertical-align: top;\n",
       "    }\n",
       "\n",
       "    .dataframe thead th {\n",
       "        text-align: right;\n",
       "    }\n",
       "</style>\n",
       "<table border=\"1\" class=\"dataframe\">\n",
       "  <thead>\n",
       "    <tr style=\"text-align: right;\">\n",
       "      <th></th>\n",
       "      <th>week</th>\n",
       "      <th>day</th>\n",
       "      <th>hour</th>\n",
       "      <th>sub_genre_id</th>\n",
       "      <th>channel_id</th>\n",
       "      <th>program_id</th>\n",
       "      <th>users</th>\n",
       "      <th>day_since</th>\n",
       "      <th>new</th>\n",
       "    </tr>\n",
       "  </thead>\n",
       "  <tbody>\n",
       "    <tr>\n",
       "      <th>0</th>\n",
       "      <td>1</td>\n",
       "      <td>1</td>\n",
       "      <td>1</td>\n",
       "      <td>1</td>\n",
       "      <td>181</td>\n",
       "      <td>366653</td>\n",
       "      <td>5</td>\n",
       "      <td>1</td>\n",
       "      <td>0</td>\n",
       "    </tr>\n",
       "    <tr>\n",
       "      <th>1</th>\n",
       "      <td>1</td>\n",
       "      <td>1</td>\n",
       "      <td>1</td>\n",
       "      <td>3</td>\n",
       "      <td>1</td>\n",
       "      <td>367167</td>\n",
       "      <td>20</td>\n",
       "      <td>1</td>\n",
       "      <td>0</td>\n",
       "    </tr>\n",
       "    <tr>\n",
       "      <th>2</th>\n",
       "      <td>1</td>\n",
       "      <td>1</td>\n",
       "      <td>1</td>\n",
       "      <td>3</td>\n",
       "      <td>4</td>\n",
       "      <td>68785</td>\n",
       "      <td>34</td>\n",
       "      <td>1</td>\n",
       "      <td>0</td>\n",
       "    </tr>\n",
       "    <tr>\n",
       "      <th>3</th>\n",
       "      <td>1</td>\n",
       "      <td>1</td>\n",
       "      <td>1</td>\n",
       "      <td>5</td>\n",
       "      <td>38</td>\n",
       "      <td>11568</td>\n",
       "      <td>5</td>\n",
       "      <td>1</td>\n",
       "      <td>0</td>\n",
       "    </tr>\n",
       "    <tr>\n",
       "      <th>4</th>\n",
       "      <td>1</td>\n",
       "      <td>1</td>\n",
       "      <td>1</td>\n",
       "      <td>9</td>\n",
       "      <td>6</td>\n",
       "      <td>177908</td>\n",
       "      <td>90</td>\n",
       "      <td>1</td>\n",
       "      <td>0</td>\n",
       "    </tr>\n",
       "  </tbody>\n",
       "</table>\n",
       "</div>"
      ],
      "text/plain": [
       "   week  day  hour  sub_genre_id  channel_id  program_id  users  day_since  \\\n",
       "0     1    1     1             1         181      366653      5          1   \n",
       "1     1    1     1             3           1      367167     20          1   \n",
       "2     1    1     1             3           4       68785     34          1   \n",
       "3     1    1     1             5          38       11568      5          1   \n",
       "4     1    1     1             9           6      177908     90          1   \n",
       "\n",
       "   new  \n",
       "0    0  \n",
       "1    0  \n",
       "2    0  \n",
       "3    0  \n",
       "4    0  "
      ]
     },
     "execution_count": 6,
     "metadata": {},
     "output_type": "execute_result"
    }
   ],
   "source": [
    "tv_data.head()"
   ]
  },
  {
   "cell_type": "code",
   "execution_count": 7,
   "metadata": {},
   "outputs": [
    {
     "name": "stderr",
     "output_type": "stream",
     "text": [
      "/home/yogesh/anaconda3/lib/python3.6/site-packages/ipykernel_launcher.py:2: SettingWithCopyWarning: \n",
      "A value is trying to be set on a copy of a slice from a DataFrame.\n",
      "Try using .loc[row_indexer,col_indexer] = value instead\n",
      "\n",
      "See the caveats in the documentation: http://pandas.pydata.org/pandas-docs/stable/indexing.html#indexing-view-versus-copy\n",
      "  \n"
     ]
    }
   ],
   "source": [
    "unique_programs_filter = tv_data.drop_duplicates(subset =[\"program_id\"], keep = \"first\", inplace = False)\n",
    "unique_programs_filter[\"new\"] = int(1)\n",
    "tv_data[\"new\"].update(unique_programs_filter[\"new\"].astype(int))"
   ]
  },
  {
   "cell_type": "code",
   "execution_count": 37,
   "metadata": {},
   "outputs": [],
   "source": [
    "#tv_data = pd.concat([tv_data,pd.get_dummies(tv_data['program_id'], prefix='program_id')],axis=1)\n",
    "#tv_data.drop(['program_id'],axis=1, inplace=True)"
   ]
  },
  {
   "cell_type": "code",
   "execution_count": 9,
   "metadata": {},
   "outputs": [],
   "source": [
    "program_list = tv_data[(tv_data[\"week\"] < 13) & (tv_data[\"week\"] > 8) ]"
   ]
  },
  {
   "cell_type": "code",
   "execution_count": 10,
   "metadata": {},
   "outputs": [],
   "source": [
    "train_data = tv_data[(tv_data[\"week\"] < 13) & (tv_data[\"week\"] > 8) ]\n",
    "test_data = tv_data[(tv_data[\"week\"] == 13)  & (tv_data[\"program_id\"].isin(program_list[\"program_id\"].unique())) ]"
   ]
  },
  {
   "cell_type": "code",
   "execution_count": 11,
   "metadata": {},
   "outputs": [
    {
     "data": {
      "text/plain": [
       "(14533, 9)"
      ]
     },
     "execution_count": 11,
     "metadata": {},
     "output_type": "execute_result"
    }
   ],
   "source": [
    "test_data.shape"
   ]
  },
  {
   "cell_type": "code",
   "execution_count": 13,
   "metadata": {},
   "outputs": [],
   "source": [
    "Y_train = train_data[\"users\"]\n",
    "X_train = train_data[[\"day\", \"hour\", \"program_id\"]]"
   ]
  },
  {
   "cell_type": "code",
   "execution_count": 14,
   "metadata": {},
   "outputs": [],
   "source": [
    "Y_test = test_data[\"users\"]\n",
    "X_test = test_data[[\"day\", \"hour\", \"program_id\"]]\n"
   ]
  },
  {
   "cell_type": "code",
   "execution_count": 32,
   "metadata": {},
   "outputs": [],
   "source": [
    "reg = GradientBoostingRegressor(n_estimators=1500, learning_rate=0.1, max_depth=5, subsample=1.0, random_state=0, loss='ls')"
   ]
  },
  {
   "cell_type": "code",
   "execution_count": 33,
   "metadata": {},
   "outputs": [
    {
     "data": {
      "text/plain": [
       "GradientBoostingRegressor(alpha=0.9, criterion='friedman_mse', init=None,\n",
       "             learning_rate=0.1, loss='ls', max_depth=5, max_features=None,\n",
       "             max_leaf_nodes=None, min_impurity_decrease=0.0,\n",
       "             min_impurity_split=None, min_samples_leaf=1,\n",
       "             min_samples_split=2, min_weight_fraction_leaf=0.0,\n",
       "             n_estimators=1500, presort='auto', random_state=0,\n",
       "             subsample=1.0, verbose=0, warm_start=False)"
      ]
     },
     "execution_count": 33,
     "metadata": {},
     "output_type": "execute_result"
    }
   ],
   "source": [
    "reg.fit(X_train.values, Y_train.values)"
   ]
  },
  {
   "cell_type": "code",
   "execution_count": 34,
   "metadata": {},
   "outputs": [
    {
     "name": "stdout",
     "output_type": "stream",
     "text": [
      "559.3397489116775\n"
     ]
    }
   ],
   "source": [
    "print (mean_squared_error(reg.predict(X_train.values),Y_train.values))"
   ]
  },
  {
   "cell_type": "code",
   "execution_count": 35,
   "metadata": {},
   "outputs": [
    {
     "name": "stdout",
     "output_type": "stream",
     "text": [
      "2113.8781584017083\n"
     ]
    }
   ],
   "source": [
    "print (mean_squared_error(reg.predict(X_test.values),Y_test.values))"
   ]
  },
  {
   "cell_type": "code",
   "execution_count": 181,
   "metadata": {},
   "outputs": [
    {
     "data": {
      "text/plain": [
       "['filename.joblib']"
      ]
     },
     "execution_count": 181,
     "metadata": {},
     "output_type": "execute_result"
    }
   ],
   "source": [
    "#from joblib import dump, load\n",
    "#dump(reg, 'model.joblib') "
   ]
  },
  {
   "cell_type": "code",
   "execution_count": 36,
   "metadata": {},
   "outputs": [],
   "source": [
    "test_sample = test_data[(test_data[\"hour\"] == 24) & ( test_data[\"day\"] == 2) ]"
   ]
  },
  {
   "cell_type": "code",
   "execution_count": 37,
   "metadata": {},
   "outputs": [
    {
     "name": "stderr",
     "output_type": "stream",
     "text": [
      "/home/yogesh/anaconda3/lib/python3.6/site-packages/ipykernel_launcher.py:1: SettingWithCopyWarning: \n",
      "A value is trying to be set on a copy of a slice from a DataFrame.\n",
      "Try using .loc[row_indexer,col_indexer] = value instead\n",
      "\n",
      "See the caveats in the documentation: http://pandas.pydata.org/pandas-docs/stable/indexing.html#indexing-view-versus-copy\n",
      "  \"\"\"Entry point for launching an IPython kernel.\n"
     ]
    }
   ],
   "source": [
    "test_sample[\"predicted\"] = reg.predict(test_sample[[  \"day\", \"hour\",  \"program_id\"]])"
   ]
  },
  {
   "cell_type": "code",
   "execution_count": 38,
   "metadata": {},
   "outputs": [
    {
     "data": {
      "text/html": [
       "<div>\n",
       "<style scoped>\n",
       "    .dataframe tbody tr th:only-of-type {\n",
       "        vertical-align: middle;\n",
       "    }\n",
       "\n",
       "    .dataframe tbody tr th {\n",
       "        vertical-align: top;\n",
       "    }\n",
       "\n",
       "    .dataframe thead th {\n",
       "        text-align: right;\n",
       "    }\n",
       "</style>\n",
       "<table border=\"1\" class=\"dataframe\">\n",
       "  <thead>\n",
       "    <tr style=\"text-align: right;\">\n",
       "      <th></th>\n",
       "      <th>week</th>\n",
       "      <th>day</th>\n",
       "      <th>hour</th>\n",
       "      <th>sub_genre_id</th>\n",
       "      <th>channel_id</th>\n",
       "      <th>program_id</th>\n",
       "      <th>users</th>\n",
       "      <th>day_since</th>\n",
       "      <th>new</th>\n",
       "      <th>predicted</th>\n",
       "    </tr>\n",
       "  </thead>\n",
       "  <tbody>\n",
       "    <tr>\n",
       "      <th>207585</th>\n",
       "      <td>13</td>\n",
       "      <td>2</td>\n",
       "      <td>24</td>\n",
       "      <td>11</td>\n",
       "      <td>1</td>\n",
       "      <td>346324</td>\n",
       "      <td>165</td>\n",
       "      <td>86</td>\n",
       "      <td>0</td>\n",
       "      <td>114.115961</td>\n",
       "    </tr>\n",
       "    <tr>\n",
       "      <th>207613</th>\n",
       "      <td>13</td>\n",
       "      <td>2</td>\n",
       "      <td>24</td>\n",
       "      <td>31</td>\n",
       "      <td>5</td>\n",
       "      <td>220882</td>\n",
       "      <td>91</td>\n",
       "      <td>86</td>\n",
       "      <td>0</td>\n",
       "      <td>86.083391</td>\n",
       "    </tr>\n",
       "    <tr>\n",
       "      <th>207629</th>\n",
       "      <td>13</td>\n",
       "      <td>2</td>\n",
       "      <td>24</td>\n",
       "      <td>36</td>\n",
       "      <td>4</td>\n",
       "      <td>226965</td>\n",
       "      <td>78</td>\n",
       "      <td>86</td>\n",
       "      <td>0</td>\n",
       "      <td>103.481832</td>\n",
       "    </tr>\n",
       "    <tr>\n",
       "      <th>207571</th>\n",
       "      <td>13</td>\n",
       "      <td>2</td>\n",
       "      <td>24</td>\n",
       "      <td>1</td>\n",
       "      <td>2</td>\n",
       "      <td>373540</td>\n",
       "      <td>76</td>\n",
       "      <td>86</td>\n",
       "      <td>0</td>\n",
       "      <td>129.324557</td>\n",
       "    </tr>\n",
       "    <tr>\n",
       "      <th>207586</th>\n",
       "      <td>13</td>\n",
       "      <td>2</td>\n",
       "      <td>24</td>\n",
       "      <td>11</td>\n",
       "      <td>4</td>\n",
       "      <td>375149</td>\n",
       "      <td>51</td>\n",
       "      <td>86</td>\n",
       "      <td>0</td>\n",
       "      <td>62.898916</td>\n",
       "    </tr>\n",
       "    <tr>\n",
       "      <th>207609</th>\n",
       "      <td>13</td>\n",
       "      <td>2</td>\n",
       "      <td>24</td>\n",
       "      <td>30</td>\n",
       "      <td>6</td>\n",
       "      <td>5785</td>\n",
       "      <td>48</td>\n",
       "      <td>86</td>\n",
       "      <td>0</td>\n",
       "      <td>49.303270</td>\n",
       "    </tr>\n",
       "    <tr>\n",
       "      <th>207581</th>\n",
       "      <td>13</td>\n",
       "      <td>2</td>\n",
       "      <td>24</td>\n",
       "      <td>9</td>\n",
       "      <td>6</td>\n",
       "      <td>177908</td>\n",
       "      <td>47</td>\n",
       "      <td>86</td>\n",
       "      <td>0</td>\n",
       "      <td>31.986261</td>\n",
       "    </tr>\n",
       "    <tr>\n",
       "      <th>207641</th>\n",
       "      <td>13</td>\n",
       "      <td>2</td>\n",
       "      <td>24</td>\n",
       "      <td>43</td>\n",
       "      <td>5</td>\n",
       "      <td>360471</td>\n",
       "      <td>39</td>\n",
       "      <td>86</td>\n",
       "      <td>0</td>\n",
       "      <td>48.001483</td>\n",
       "    </tr>\n",
       "    <tr>\n",
       "      <th>207657</th>\n",
       "      <td>13</td>\n",
       "      <td>2</td>\n",
       "      <td>24</td>\n",
       "      <td>80</td>\n",
       "      <td>7</td>\n",
       "      <td>8532</td>\n",
       "      <td>36</td>\n",
       "      <td>86</td>\n",
       "      <td>0</td>\n",
       "      <td>27.577662</td>\n",
       "    </tr>\n",
       "    <tr>\n",
       "      <th>207579</th>\n",
       "      <td>13</td>\n",
       "      <td>2</td>\n",
       "      <td>24</td>\n",
       "      <td>5</td>\n",
       "      <td>84</td>\n",
       "      <td>375833</td>\n",
       "      <td>26</td>\n",
       "      <td>86</td>\n",
       "      <td>0</td>\n",
       "      <td>32.506935</td>\n",
       "    </tr>\n",
       "  </tbody>\n",
       "</table>\n",
       "</div>"
      ],
      "text/plain": [
       "        week  day  hour  sub_genre_id  channel_id  program_id  users  \\\n",
       "207585    13    2    24            11           1      346324    165   \n",
       "207613    13    2    24            31           5      220882     91   \n",
       "207629    13    2    24            36           4      226965     78   \n",
       "207571    13    2    24             1           2      373540     76   \n",
       "207586    13    2    24            11           4      375149     51   \n",
       "207609    13    2    24            30           6        5785     48   \n",
       "207581    13    2    24             9           6      177908     47   \n",
       "207641    13    2    24            43           5      360471     39   \n",
       "207657    13    2    24            80           7        8532     36   \n",
       "207579    13    2    24             5          84      375833     26   \n",
       "\n",
       "        day_since  new   predicted  \n",
       "207585         86    0  114.115961  \n",
       "207613         86    0   86.083391  \n",
       "207629         86    0  103.481832  \n",
       "207571         86    0  129.324557  \n",
       "207586         86    0   62.898916  \n",
       "207609         86    0   49.303270  \n",
       "207581         86    0   31.986261  \n",
       "207641         86    0   48.001483  \n",
       "207657         86    0   27.577662  \n",
       "207579         86    0   32.506935  "
      ]
     },
     "execution_count": 38,
     "metadata": {},
     "output_type": "execute_result"
    }
   ],
   "source": [
    "test_sample.sort_values(by=['users'], ascending=False)[:10]\n"
   ]
  },
  {
   "cell_type": "code",
   "execution_count": 40,
   "metadata": {},
   "outputs": [
    {
     "data": {
      "image/png": "[encoded data removed]",
      "text/plain": [
       "<Figure size 432x288 with 1 Axes>"
      ]
     },
     "metadata": {},
     "output_type": "display_data"
    }
   ],
   "source": [
    "tmp = tv_data[(tv_data[\"program_id\"] == 346324) & (tv_data[\"week\"] < 14)]\n",
    "plt.scatter(tmp[\"week\"], tmp[\"users\"]);"
   ]
  },
  {
   "cell_type": "code",
   "execution_count": 31,
   "metadata": {},
   "outputs": [
    {
     "data": {
      "text/plain": [
       "4797             NaN\n",
       "7195             NaN\n",
       "9629             NaN\n",
       "11990            NaN\n",
       "14384      80.133333\n",
       "21738      79.133333\n",
       "24123      66.466667\n",
       "26495      67.533333\n",
       "28894      73.266667\n",
       "31280      83.200000\n",
       "38684      80.333333\n",
       "41077      71.666667\n",
       "43428      73.666667\n",
       "45790      81.666667\n",
       "48199      91.066667\n",
       "55516      86.600000\n",
       "57890      87.933333\n",
       "60120      99.133333\n",
       "62517     120.400000\n",
       "64916     121.066667\n",
       "74559     104.466667\n",
       "76948      76.666667\n",
       "79387      66.533333\n",
       "81825      65.133333\n",
       "91629      69.533333\n",
       "94165      62.800000\n",
       "96452      59.466667\n",
       "98988      53.133333\n",
       "103741     66.333333\n",
       "106094     73.600000\n",
       "             ...    \n",
       "140189     82.800000\n",
       "142595     69.000000\n",
       "144840     66.200000\n",
       "144948     67.600000\n",
       "147287     80.000000\n",
       "149823     77.733333\n",
       "157142     79.666667\n",
       "159454     71.466667\n",
       "161835     76.666667\n",
       "164231     75.333333\n",
       "166677     74.600000\n",
       "173891     65.866667\n",
       "173992     59.333333\n",
       "176404     59.533333\n",
       "178638     56.800000\n",
       "178735     54.333333\n",
       "181202     52.466667\n",
       "183592     52.866667\n",
       "188348     54.266667\n",
       "190912     53.333333\n",
       "193233     78.533333\n",
       "195598    118.066667\n",
       "197957    163.000000\n",
       "200410    175.466667\n",
       "205129    167.533333\n",
       "207585    147.800000\n",
       "209926    133.933333\n",
       "212250    130.133333\n",
       "214657    133.266667\n",
       "217093    126.000000\n",
       "Name: users, Length: 70, dtype: float64"
      ]
     },
     "execution_count": 31,
     "metadata": {},
     "output_type": "execute_result"
    }
   ],
   "source": [
    "tmp[\"users\"].rolling(5, win_type='triang').sum()/5"
   ]
  },
  {
   "cell_type": "code",
   "execution_count": 3,
   "metadata": {},
   "outputs": [],
   "source": [
    "com_data = pd.read_csv(\"unique_data.csv\", usecols = [\"channel_id\", \"week\", \"sub_genre_id\",  \"program_id\",  \"hour\", \"day\"])"
   ]
  },
  {
   "cell_type": "code",
   "execution_count": 4,
   "metadata": {},
   "outputs": [],
   "source": [
    "com_data.drop_duplicates(subset =[\"program_id\", \"channel_id\", \"sub_genre_id\", \"week\", \"hour\", \"day\"], keep = \"first\", inplace = True)"
   ]
  },
  {
   "cell_type": "code",
   "execution_count": 5,
   "metadata": {},
   "outputs": [],
   "source": [
    "com_data.to_csv(\"program_id_mapping.csv\")"
   ]
  },
  {
   "cell_type": "code",
   "execution_count": 179,
   "metadata": {},
   "outputs": [],
   "source": [
    "com_data = pd.read_csv(\"unique_data.csv\")"
   ]
  },
  {
   "cell_type": "code",
   "execution_count": 180,
   "metadata": {},
   "outputs": [
    {
     "name": "stdout",
     "output_type": "stream",
     "text": [
      "378207\n"
     ]
    }
   ],
   "source": [
    "hour = 21\n",
    "week = 13\n",
    "week_day = 4\n",
    "sub_genre_id = 3\n",
    "channel_id = 1\n",
    "data = com_data[(com_data[\"hour\"] == hour) & (com_data[\"week\"] == week) & (com_data[\"week_day\"] == week_day)  & (com_data[\"sub_genre_id\"] == sub_genre_id) & (com_data[\"channel_id\"] == channel_id)].iloc[0]\n",
    "print (data[\"program_id\"])"
   ]
  },
  {
   "cell_type": "code",
   "execution_count": 148,
   "metadata": {},
   "outputs": [
    {
     "name": "stdout",
     "output_type": "stream",
     "text": [
      "        week  week_day  hour  sub_genre_id  channel_id  user_id   predicted\n",
      "165718    13         2    22             9           1      592  421.387971\n",
      "165723    13         2    22            13           4      323  226.050612\n",
      "165764    13         2    22            34           5      316  215.560291\n",
      "165724    13         2    22            13           7      274  158.873981\n",
      "165772    13         2    22            36           4      260  222.335967\n",
      "165788    13         2    22            60           6      213  161.960145\n",
      "165794    13         2    22            80         177      130   27.663324\n",
      "165749    13         2    22            31           2      118  156.412069\n",
      "165786    13         2    22            54           1      116  378.892574\n",
      "165716    13         2    22             5           3      100  156.492012\n"
     ]
    }
   ],
   "source": [
    "print (target_result.sort_values(by=['user_id'], ascending=False)[:10])"
   ]
  },
  {
   "cell_type": "code",
   "execution_count": 164,
   "metadata": {},
   "outputs": [
    {
     "name": "stdout",
     "output_type": "stream",
     "text": [
      "[[172185, 592, 421], [373897, 323, 226], [237330, 316, 215], [361916, 274, 158], [226965, 260, 222], [347672, 213, 161], [5839, 130, 27], [175994, 118, 156], [378209, 116, 378], [88850, 100, 156]]\n"
     ]
    }
   ],
   "source": [
    "output = []\n",
    "for i in target_result.sort_values(by=['user_id'], ascending=False)[:10].values:\n",
    "    #print (i)\n",
    "    ret = []\n",
    "    hour = i[2]\n",
    "    week = i[0]\n",
    "    week_day = i[1]\n",
    "    sub_genre_id = i[3]\n",
    "    channel_id = i[4]\n",
    "    \n",
    "    data = com_data[(com_data[\"hour\"] == hour) & (com_data[\"week\"] == week) & (com_data[\"week_day\"] == week_day)  & (com_data[\"sub_genre_id\"] == sub_genre_id) & (com_data[\"channel_id\"] == channel_id)].iloc[0]\n",
    "    #print (data[\"program_id\"])\n",
    "    ret.append(int(data[\"program_id\"]))\n",
    "    ret.append(int(i[5]))\n",
    "    ret.append(int(i[6]))\n",
    "    output.append(ret)\n",
    "    #break\n",
    "print (output)"
   ]
  },
  {
   "cell_type": "code",
   "execution_count": 165,
   "metadata": {},
   "outputs": [],
   "source": [
    "import json"
   ]
  },
  {
   "cell_type": "code",
   "execution_count": 166,
   "metadata": {},
   "outputs": [
    {
     "data": {
      "text/plain": [
       "'[[172185, 592, 421], [373897, 323, 226], [237330, 316, 215], [361916, 274, 158], [226965, 260, 222], [347672, 213, 161], [5839, 130, 27], [175994, 118, 156], [378209, 116, 378], [88850, 100, 156]]'"
      ]
     },
     "execution_count": 166,
     "metadata": {},
     "output_type": "execute_result"
    }
   ],
   "source": [
    "json.dumps(output)"
   ]
  },
  {
   "cell_type": "code",
   "execution_count": 190,
   "metadata": {},
   "outputs": [],
   "source": [
    "s = tv_data[:10]"
   ]
  },
  {
   "cell_type": "code",
   "execution_count": 191,
   "metadata": {},
   "outputs": [
    {
     "data": {
      "text/html": [
       "<div>\n",
       "<style scoped>\n",
       "    .dataframe tbody tr th:only-of-type {\n",
       "        vertical-align: middle;\n",
       "    }\n",
       "\n",
       "    .dataframe tbody tr th {\n",
       "        vertical-align: top;\n",
       "    }\n",
       "\n",
       "    .dataframe thead th {\n",
       "        text-align: right;\n",
       "    }\n",
       "</style>\n",
       "<table border=\"1\" class=\"dataframe\">\n",
       "  <thead>\n",
       "    <tr style=\"text-align: right;\">\n",
       "      <th></th>\n",
       "      <th>week</th>\n",
       "      <th>day</th>\n",
       "      <th>hour</th>\n",
       "      <th>sub_genre_id</th>\n",
       "      <th>channel_id</th>\n",
       "      <th>program_id</th>\n",
       "      <th>user_id</th>\n",
       "      <th>new</th>\n",
       "    </tr>\n",
       "  </thead>\n",
       "  <tbody>\n",
       "    <tr>\n",
       "      <th>0</th>\n",
       "      <td>1.0</td>\n",
       "      <td>1.0</td>\n",
       "      <td>1.0</td>\n",
       "      <td>1.0</td>\n",
       "      <td>181.0</td>\n",
       "      <td>366653.0</td>\n",
       "      <td>5.0</td>\n",
       "      <td>1.0</td>\n",
       "    </tr>\n",
       "    <tr>\n",
       "      <th>1</th>\n",
       "      <td>1.0</td>\n",
       "      <td>1.0</td>\n",
       "      <td>1.0</td>\n",
       "      <td>3.0</td>\n",
       "      <td>1.0</td>\n",
       "      <td>367167.0</td>\n",
       "      <td>20.0</td>\n",
       "      <td>1.0</td>\n",
       "    </tr>\n",
       "    <tr>\n",
       "      <th>2</th>\n",
       "      <td>1.0</td>\n",
       "      <td>1.0</td>\n",
       "      <td>1.0</td>\n",
       "      <td>3.0</td>\n",
       "      <td>4.0</td>\n",
       "      <td>68785.0</td>\n",
       "      <td>34.0</td>\n",
       "      <td>1.0</td>\n",
       "    </tr>\n",
       "    <tr>\n",
       "      <th>3</th>\n",
       "      <td>1.0</td>\n",
       "      <td>1.0</td>\n",
       "      <td>1.0</td>\n",
       "      <td>5.0</td>\n",
       "      <td>38.0</td>\n",
       "      <td>11568.0</td>\n",
       "      <td>5.0</td>\n",
       "      <td>1.0</td>\n",
       "    </tr>\n",
       "    <tr>\n",
       "      <th>4</th>\n",
       "      <td>1.0</td>\n",
       "      <td>1.0</td>\n",
       "      <td>1.0</td>\n",
       "      <td>9.0</td>\n",
       "      <td>6.0</td>\n",
       "      <td>177908.0</td>\n",
       "      <td>90.0</td>\n",
       "      <td>1.0</td>\n",
       "    </tr>\n",
       "    <tr>\n",
       "      <th>5</th>\n",
       "      <td>1.0</td>\n",
       "      <td>1.0</td>\n",
       "      <td>1.0</td>\n",
       "      <td>9.0</td>\n",
       "      <td>71.0</td>\n",
       "      <td>171447.0</td>\n",
       "      <td>2.0</td>\n",
       "      <td>1.0</td>\n",
       "    </tr>\n",
       "    <tr>\n",
       "      <th>6</th>\n",
       "      <td>1.0</td>\n",
       "      <td>1.0</td>\n",
       "      <td>1.0</td>\n",
       "      <td>11.0</td>\n",
       "      <td>5.0</td>\n",
       "      <td>110848.0</td>\n",
       "      <td>12.0</td>\n",
       "      <td>1.0</td>\n",
       "    </tr>\n",
       "    <tr>\n",
       "      <th>7</th>\n",
       "      <td>1.0</td>\n",
       "      <td>1.0</td>\n",
       "      <td>1.0</td>\n",
       "      <td>11.0</td>\n",
       "      <td>18.0</td>\n",
       "      <td>157197.0</td>\n",
       "      <td>3.0</td>\n",
       "      <td>1.0</td>\n",
       "    </tr>\n",
       "    <tr>\n",
       "      <th>8</th>\n",
       "      <td>1.0</td>\n",
       "      <td>1.0</td>\n",
       "      <td>1.0</td>\n",
       "      <td>11.0</td>\n",
       "      <td>28.0</td>\n",
       "      <td>109777.0</td>\n",
       "      <td>1.0</td>\n",
       "      <td>1.0</td>\n",
       "    </tr>\n",
       "    <tr>\n",
       "      <th>9</th>\n",
       "      <td>1.0</td>\n",
       "      <td>1.0</td>\n",
       "      <td>1.0</td>\n",
       "      <td>11.0</td>\n",
       "      <td>28.0</td>\n",
       "      <td>368026.0</td>\n",
       "      <td>1.0</td>\n",
       "      <td>1.0</td>\n",
       "    </tr>\n",
       "  </tbody>\n",
       "</table>\n",
       "</div>"
      ],
      "text/plain": [
       "   week  day  hour  sub_genre_id  channel_id  program_id  user_id  new\n",
       "0   1.0  1.0   1.0           1.0       181.0    366653.0      5.0  1.0\n",
       "1   1.0  1.0   1.0           3.0         1.0    367167.0     20.0  1.0\n",
       "2   1.0  1.0   1.0           3.0         4.0     68785.0     34.0  1.0\n",
       "3   1.0  1.0   1.0           5.0        38.0     11568.0      5.0  1.0\n",
       "4   1.0  1.0   1.0           9.0         6.0    177908.0     90.0  1.0\n",
       "5   1.0  1.0   1.0           9.0        71.0    171447.0      2.0  1.0\n",
       "6   1.0  1.0   1.0          11.0         5.0    110848.0     12.0  1.0\n",
       "7   1.0  1.0   1.0          11.0        18.0    157197.0      3.0  1.0\n",
       "8   1.0  1.0   1.0          11.0        28.0    109777.0      1.0  1.0\n",
       "9   1.0  1.0   1.0          11.0        28.0    368026.0      1.0  1.0"
      ]
     },
     "execution_count": 191,
     "metadata": {},
     "output_type": "execute_result"
    }
   ],
   "source": [
    "s"
   ]
  },
  {
   "cell_type": "code",
   "execution_count": 193,
   "metadata": {},
   "outputs": [
    {
     "data": {
      "text/html": [
       "<div>\n",
       "<style scoped>\n",
       "    .dataframe tbody tr th:only-of-type {\n",
       "        vertical-align: middle;\n",
       "    }\n",
       "\n",
       "    .dataframe tbody tr th {\n",
       "        vertical-align: top;\n",
       "    }\n",
       "\n",
       "    .dataframe thead th {\n",
       "        text-align: right;\n",
       "    }\n",
       "</style>\n",
       "<table border=\"1\" class=\"dataframe\">\n",
       "  <thead>\n",
       "    <tr style=\"text-align: right;\">\n",
       "      <th></th>\n",
       "      <th>11568.0</th>\n",
       "      <th>68785.0</th>\n",
       "      <th>109777.0</th>\n",
       "      <th>110848.0</th>\n",
       "      <th>157197.0</th>\n",
       "      <th>171447.0</th>\n",
       "      <th>177908.0</th>\n",
       "      <th>366653.0</th>\n",
       "      <th>367167.0</th>\n",
       "      <th>368026.0</th>\n",
       "    </tr>\n",
       "  </thead>\n",
       "  <tbody>\n",
       "    <tr>\n",
       "      <th>0</th>\n",
       "      <td>0</td>\n",
       "      <td>0</td>\n",
       "      <td>0</td>\n",
       "      <td>0</td>\n",
       "      <td>0</td>\n",
       "      <td>0</td>\n",
       "      <td>0</td>\n",
       "      <td>1</td>\n",
       "      <td>0</td>\n",
       "      <td>0</td>\n",
       "    </tr>\n",
       "    <tr>\n",
       "      <th>1</th>\n",
       "      <td>0</td>\n",
       "      <td>0</td>\n",
       "      <td>0</td>\n",
       "      <td>0</td>\n",
       "      <td>0</td>\n",
       "      <td>0</td>\n",
       "      <td>0</td>\n",
       "      <td>0</td>\n",
       "      <td>1</td>\n",
       "      <td>0</td>\n",
       "    </tr>\n",
       "    <tr>\n",
       "      <th>2</th>\n",
       "      <td>0</td>\n",
       "      <td>1</td>\n",
       "      <td>0</td>\n",
       "      <td>0</td>\n",
       "      <td>0</td>\n",
       "      <td>0</td>\n",
       "      <td>0</td>\n",
       "      <td>0</td>\n",
       "      <td>0</td>\n",
       "      <td>0</td>\n",
       "    </tr>\n",
       "    <tr>\n",
       "      <th>3</th>\n",
       "      <td>1</td>\n",
       "      <td>0</td>\n",
       "      <td>0</td>\n",
       "      <td>0</td>\n",
       "      <td>0</td>\n",
       "      <td>0</td>\n",
       "      <td>0</td>\n",
       "      <td>0</td>\n",
       "      <td>0</td>\n",
       "      <td>0</td>\n",
       "    </tr>\n",
       "    <tr>\n",
       "      <th>4</th>\n",
       "      <td>0</td>\n",
       "      <td>0</td>\n",
       "      <td>0</td>\n",
       "      <td>0</td>\n",
       "      <td>0</td>\n",
       "      <td>0</td>\n",
       "      <td>1</td>\n",
       "      <td>0</td>\n",
       "      <td>0</td>\n",
       "      <td>0</td>\n",
       "    </tr>\n",
       "    <tr>\n",
       "      <th>5</th>\n",
       "      <td>0</td>\n",
       "      <td>0</td>\n",
       "      <td>0</td>\n",
       "      <td>0</td>\n",
       "      <td>0</td>\n",
       "      <td>1</td>\n",
       "      <td>0</td>\n",
       "      <td>0</td>\n",
       "      <td>0</td>\n",
       "      <td>0</td>\n",
       "    </tr>\n",
       "    <tr>\n",
       "      <th>6</th>\n",
       "      <td>0</td>\n",
       "      <td>0</td>\n",
       "      <td>0</td>\n",
       "      <td>1</td>\n",
       "      <td>0</td>\n",
       "      <td>0</td>\n",
       "      <td>0</td>\n",
       "      <td>0</td>\n",
       "      <td>0</td>\n",
       "      <td>0</td>\n",
       "    </tr>\n",
       "    <tr>\n",
       "      <th>7</th>\n",
       "      <td>0</td>\n",
       "      <td>0</td>\n",
       "      <td>0</td>\n",
       "      <td>0</td>\n",
       "      <td>1</td>\n",
       "      <td>0</td>\n",
       "      <td>0</td>\n",
       "      <td>0</td>\n",
       "      <td>0</td>\n",
       "      <td>0</td>\n",
       "    </tr>\n",
       "    <tr>\n",
       "      <th>8</th>\n",
       "      <td>0</td>\n",
       "      <td>0</td>\n",
       "      <td>1</td>\n",
       "      <td>0</td>\n",
       "      <td>0</td>\n",
       "      <td>0</td>\n",
       "      <td>0</td>\n",
       "      <td>0</td>\n",
       "      <td>0</td>\n",
       "      <td>0</td>\n",
       "    </tr>\n",
       "    <tr>\n",
       "      <th>9</th>\n",
       "      <td>0</td>\n",
       "      <td>0</td>\n",
       "      <td>0</td>\n",
       "      <td>0</td>\n",
       "      <td>0</td>\n",
       "      <td>0</td>\n",
       "      <td>0</td>\n",
       "      <td>0</td>\n",
       "      <td>0</td>\n",
       "      <td>1</td>\n",
       "    </tr>\n",
       "  </tbody>\n",
       "</table>\n",
       "</div>"
      ],
      "text/plain": [
       "   11568.0   68785.0   109777.0  110848.0  157197.0  171447.0  177908.0  \\\n",
       "0         0         0         0         0         0         0         0   \n",
       "1         0         0         0         0         0         0         0   \n",
       "2         0         1         0         0         0         0         0   \n",
       "3         1         0         0         0         0         0         0   \n",
       "4         0         0         0         0         0         0         1   \n",
       "5         0         0         0         0         0         1         0   \n",
       "6         0         0         0         1         0         0         0   \n",
       "7         0         0         0         0         1         0         0   \n",
       "8         0         0         1         0         0         0         0   \n",
       "9         0         0         0         0         0         0         0   \n",
       "\n",
       "   366653.0  367167.0  368026.0  \n",
       "0         1         0         0  \n",
       "1         0         1         0  \n",
       "2         0         0         0  \n",
       "3         0         0         0  \n",
       "4         0         0         0  \n",
       "5         0         0         0  \n",
       "6         0         0         0  \n",
       "7         0         0         0  \n",
       "8         0         0         0  \n",
       "9         0         0         1  "
      ]
     },
     "execution_count": 193,
     "metadata": {},
     "output_type": "execute_result"
    }
   ],
   "source": [
    "l =pd.get_dummies(s[\"program_id\"])"
   ]
  },
  {
   "cell_type": "code",
   "execution_count": 194,
   "metadata": {},
   "outputs": [
    {
     "data": {
      "text/html": [
       "<div>\n",
       "<style scoped>\n",
       "    .dataframe tbody tr th:only-of-type {\n",
       "        vertical-align: middle;\n",
       "    }\n",
       "\n",
       "    .dataframe tbody tr th {\n",
       "        vertical-align: top;\n",
       "    }\n",
       "\n",
       "    .dataframe thead th {\n",
       "        text-align: right;\n",
       "    }\n",
       "</style>\n",
       "<table border=\"1\" class=\"dataframe\">\n",
       "  <thead>\n",
       "    <tr style=\"text-align: right;\">\n",
       "      <th></th>\n",
       "      <th>week</th>\n",
       "      <th>day</th>\n",
       "      <th>hour</th>\n",
       "      <th>sub_genre_id</th>\n",
       "      <th>channel_id</th>\n",
       "      <th>program_id</th>\n",
       "      <th>user_id</th>\n",
       "      <th>new</th>\n",
       "    </tr>\n",
       "  </thead>\n",
       "  <tbody>\n",
       "    <tr>\n",
       "      <th>0</th>\n",
       "      <td>1.0</td>\n",
       "      <td>1.0</td>\n",
       "      <td>1.0</td>\n",
       "      <td>1.0</td>\n",
       "      <td>181.0</td>\n",
       "      <td>366653.0</td>\n",
       "      <td>5.0</td>\n",
       "      <td>1.0</td>\n",
       "    </tr>\n",
       "    <tr>\n",
       "      <th>1</th>\n",
       "      <td>1.0</td>\n",
       "      <td>1.0</td>\n",
       "      <td>1.0</td>\n",
       "      <td>3.0</td>\n",
       "      <td>1.0</td>\n",
       "      <td>367167.0</td>\n",
       "      <td>20.0</td>\n",
       "      <td>1.0</td>\n",
       "    </tr>\n",
       "    <tr>\n",
       "      <th>2</th>\n",
       "      <td>1.0</td>\n",
       "      <td>1.0</td>\n",
       "      <td>1.0</td>\n",
       "      <td>3.0</td>\n",
       "      <td>4.0</td>\n",
       "      <td>68785.0</td>\n",
       "      <td>34.0</td>\n",
       "      <td>1.0</td>\n",
       "    </tr>\n",
       "    <tr>\n",
       "      <th>3</th>\n",
       "      <td>1.0</td>\n",
       "      <td>1.0</td>\n",
       "      <td>1.0</td>\n",
       "      <td>5.0</td>\n",
       "      <td>38.0</td>\n",
       "      <td>11568.0</td>\n",
       "      <td>5.0</td>\n",
       "      <td>1.0</td>\n",
       "    </tr>\n",
       "    <tr>\n",
       "      <th>4</th>\n",
       "      <td>1.0</td>\n",
       "      <td>1.0</td>\n",
       "      <td>1.0</td>\n",
       "      <td>9.0</td>\n",
       "      <td>6.0</td>\n",
       "      <td>177908.0</td>\n",
       "      <td>90.0</td>\n",
       "      <td>1.0</td>\n",
       "    </tr>\n",
       "    <tr>\n",
       "      <th>5</th>\n",
       "      <td>1.0</td>\n",
       "      <td>1.0</td>\n",
       "      <td>1.0</td>\n",
       "      <td>9.0</td>\n",
       "      <td>71.0</td>\n",
       "      <td>171447.0</td>\n",
       "      <td>2.0</td>\n",
       "      <td>1.0</td>\n",
       "    </tr>\n",
       "    <tr>\n",
       "      <th>6</th>\n",
       "      <td>1.0</td>\n",
       "      <td>1.0</td>\n",
       "      <td>1.0</td>\n",
       "      <td>11.0</td>\n",
       "      <td>5.0</td>\n",
       "      <td>110848.0</td>\n",
       "      <td>12.0</td>\n",
       "      <td>1.0</td>\n",
       "    </tr>\n",
       "    <tr>\n",
       "      <th>7</th>\n",
       "      <td>1.0</td>\n",
       "      <td>1.0</td>\n",
       "      <td>1.0</td>\n",
       "      <td>11.0</td>\n",
       "      <td>18.0</td>\n",
       "      <td>157197.0</td>\n",
       "      <td>3.0</td>\n",
       "      <td>1.0</td>\n",
       "    </tr>\n",
       "    <tr>\n",
       "      <th>8</th>\n",
       "      <td>1.0</td>\n",
       "      <td>1.0</td>\n",
       "      <td>1.0</td>\n",
       "      <td>11.0</td>\n",
       "      <td>28.0</td>\n",
       "      <td>109777.0</td>\n",
       "      <td>1.0</td>\n",
       "      <td>1.0</td>\n",
       "    </tr>\n",
       "    <tr>\n",
       "      <th>9</th>\n",
       "      <td>1.0</td>\n",
       "      <td>1.0</td>\n",
       "      <td>1.0</td>\n",
       "      <td>11.0</td>\n",
       "      <td>28.0</td>\n",
       "      <td>368026.0</td>\n",
       "      <td>1.0</td>\n",
       "      <td>1.0</td>\n",
       "    </tr>\n",
       "  </tbody>\n",
       "</table>\n",
       "</div>"
      ],
      "text/plain": [
       "   week  day  hour  sub_genre_id  channel_id  program_id  user_id  new\n",
       "0   1.0  1.0   1.0           1.0       181.0    366653.0      5.0  1.0\n",
       "1   1.0  1.0   1.0           3.0         1.0    367167.0     20.0  1.0\n",
       "2   1.0  1.0   1.0           3.0         4.0     68785.0     34.0  1.0\n",
       "3   1.0  1.0   1.0           5.0        38.0     11568.0      5.0  1.0\n",
       "4   1.0  1.0   1.0           9.0         6.0    177908.0     90.0  1.0\n",
       "5   1.0  1.0   1.0           9.0        71.0    171447.0      2.0  1.0\n",
       "6   1.0  1.0   1.0          11.0         5.0    110848.0     12.0  1.0\n",
       "7   1.0  1.0   1.0          11.0        18.0    157197.0      3.0  1.0\n",
       "8   1.0  1.0   1.0          11.0        28.0    109777.0      1.0  1.0\n",
       "9   1.0  1.0   1.0          11.0        28.0    368026.0      1.0  1.0"
      ]
     },
     "execution_count": 194,
     "metadata": {},
     "output_type": "execute_result"
    }
   ],
   "source": [
    "tv_data[:10]"
   ]
  },
  {
   "cell_type": "code",
   "execution_count": null,
   "metadata": {},
   "outputs": [],
   "source": []
  }
 ],
 "metadata": {
  "kernelspec": {
   "display_name": "Python 3",
   "language": "python",
   "name": "python3"
  },
  "language_info": {
   "codemirror_mode": {
    "name": "ipython",
    "version": 3
   },
   "file_extension": ".py",
   "mimetype": "text/x-python",
   "name": "python",
   "nbconvert_exporter": "python",
   "pygments_lexer": "ipython3",
   "version": "3.8.5"
  }
 },
 "nbformat": 4,
 "nbformat_minor": 2
}
