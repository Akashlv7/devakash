{
 "cells": [
  {
   "cell_type": "code",
   "execution_count": 1,
   "metadata": {},
   "outputs": [],
   "source": [
    "import pandas as pd\n",
    "import matplotlib.pyplot as plt\n",
    "%matplotlib inline\n",
    "import seaborn as sns"
   ]
  },
  {
   "cell_type": "code",
   "execution_count": 2,
   "metadata": {},
   "outputs": [],
   "source": [
    "tv_data = pd.read_csv(\"tv-audience-dataset.csv\")"
   ]
  },
  {
   "cell_type": "code",
   "execution_count": 3,
   "metadata": {},
   "outputs": [
    {
     "name": "stdout",
     "output_type": "stream",
     "text": [
      "Index(['channel_id', 'slot', 'week', 'genre_id', 'sub_genre_id', 'user_id',\n",
      "       'program_id', 'event_id', 'duration'],\n",
      "      dtype='object')\n"
     ]
    }
   ],
   "source": [
    "tv_data.columns = [\"channel_id\", \"slot\", \"week\", \"genre_id\", \"sub_genre_id\", \"user_id\", \"program_id\", \"event_id\", \"duration\"]\n",
    "print (tv_data.columns)"
   ]
  },
  {
   "cell_type": "code",
   "execution_count": 4,
   "metadata": {},
   "outputs": [],
   "source": [
    "corr_tv_data = tv_data[(tv_data[\"week\" ] <14) & (tv_data[\"duration\" ] > 10 ) & (tv_data[\"genre_id\" ] != 7 ) & (tv_data[\"sub_genre_id\" ] != 47 ) ]"
   ]
  },
  {
   "cell_type": "code",
   "execution_count": 5,
   "metadata": {},
   "outputs": [
    {
     "data": {
      "text/html": [
       "<div>\n",
       "<style scoped>\n",
       "    .dataframe tbody tr th:only-of-type {\n",
       "        vertical-align: middle;\n",
       "    }\n",
       "\n",
       "    .dataframe tbody tr th {\n",
       "        vertical-align: top;\n",
       "    }\n",
       "\n",
       "    .dataframe thead th {\n",
       "        text-align: right;\n",
       "    }\n",
       "</style>\n",
       "<table border=\"1\" class=\"dataframe\">\n",
       "  <thead>\n",
       "    <tr style=\"text-align: right;\">\n",
       "      <th></th>\n",
       "      <th>channel_id</th>\n",
       "      <th>slot</th>\n",
       "      <th>week</th>\n",
       "      <th>genre_id</th>\n",
       "      <th>sub_genre_id</th>\n",
       "      <th>user_id</th>\n",
       "      <th>program_id</th>\n",
       "      <th>event_id</th>\n",
       "      <th>duration</th>\n",
       "    </tr>\n",
       "  </thead>\n",
       "  <tbody>\n",
       "    <tr>\n",
       "      <th>count</th>\n",
       "      <td>7.871199e+06</td>\n",
       "      <td>7.871199e+06</td>\n",
       "      <td>7.871199e+06</td>\n",
       "      <td>7.871199e+06</td>\n",
       "      <td>7.871199e+06</td>\n",
       "      <td>7.871199e+06</td>\n",
       "      <td>7.871199e+06</td>\n",
       "      <td>7.871199e+06</td>\n",
       "      <td>7.871199e+06</td>\n",
       "    </tr>\n",
       "    <tr>\n",
       "      <th>mean</th>\n",
       "      <td>2.671622e+01</td>\n",
       "      <td>8.728722e+01</td>\n",
       "      <td>7.128837e+00</td>\n",
       "      <td>4.357550e+00</td>\n",
       "      <td>3.329762e+01</td>\n",
       "      <td>5.897954e+03</td>\n",
       "      <td>1.744527e+05</td>\n",
       "      <td>5.205044e+07</td>\n",
       "      <td>2.746919e+01</td>\n",
       "    </tr>\n",
       "    <tr>\n",
       "      <th>std</th>\n",
       "      <td>4.997269e+01</td>\n",
       "      <td>4.858471e+01</td>\n",
       "      <td>3.776225e+00</td>\n",
       "      <td>1.412334e+00</td>\n",
       "      <td>2.685778e+01</td>\n",
       "      <td>3.541348e+03</td>\n",
       "      <td>1.324662e+05</td>\n",
       "      <td>7.161210e+05</td>\n",
       "      <td>1.384886e+01</td>\n",
       "    </tr>\n",
       "    <tr>\n",
       "      <th>min</th>\n",
       "      <td>1.000000e+00</td>\n",
       "      <td>1.000000e+00</td>\n",
       "      <td>1.000000e+00</td>\n",
       "      <td>1.000000e+00</td>\n",
       "      <td>1.000000e+00</td>\n",
       "      <td>1.000000e+00</td>\n",
       "      <td>3.782000e+03</td>\n",
       "      <td>4.939450e+07</td>\n",
       "      <td>1.100000e+01</td>\n",
       "    </tr>\n",
       "    <tr>\n",
       "      <th>25%</th>\n",
       "      <td>2.000000e+00</td>\n",
       "      <td>4.300000e+01</td>\n",
       "      <td>4.000000e+00</td>\n",
       "      <td>3.000000e+00</td>\n",
       "      <td>1.100000e+01</td>\n",
       "      <td>2.867000e+03</td>\n",
       "      <td>6.006800e+04</td>\n",
       "      <td>5.145605e+07</td>\n",
       "      <td>1.600000e+01</td>\n",
       "    </tr>\n",
       "    <tr>\n",
       "      <th>50%</th>\n",
       "      <td>4.000000e+00</td>\n",
       "      <td>8.900000e+01</td>\n",
       "      <td>7.000000e+00</td>\n",
       "      <td>5.000000e+00</td>\n",
       "      <td>2.900000e+01</td>\n",
       "      <td>5.845000e+03</td>\n",
       "      <td>1.397770e+05</td>\n",
       "      <td>5.206953e+07</td>\n",
       "      <td>2.400000e+01</td>\n",
       "    </tr>\n",
       "    <tr>\n",
       "      <th>75%</th>\n",
       "      <td>7.000000e+00</td>\n",
       "      <td>1.320000e+02</td>\n",
       "      <td>1.000000e+01</td>\n",
       "      <td>5.000000e+00</td>\n",
       "      <td>4.600000e+01</td>\n",
       "      <td>8.737000e+03</td>\n",
       "      <td>3.451810e+05</td>\n",
       "      <td>5.268460e+07</td>\n",
       "      <td>3.500000e+01</td>\n",
       "    </tr>\n",
       "    <tr>\n",
       "      <th>max</th>\n",
       "      <td>2.150000e+02</td>\n",
       "      <td>1.680000e+02</td>\n",
       "      <td>1.300000e+01</td>\n",
       "      <td>8.000000e+00</td>\n",
       "      <td>1.140000e+02</td>\n",
       "      <td>1.341500e+04</td>\n",
       "      <td>3.790270e+05</td>\n",
       "      <td>5.340056e+07</td>\n",
       "      <td>6.000000e+01</td>\n",
       "    </tr>\n",
       "  </tbody>\n",
       "</table>\n",
       "</div>"
      ],
      "text/plain": [
       "         channel_id          slot          week      genre_id  sub_genre_id  \\\n",
       "count  7.871199e+06  7.871199e+06  7.871199e+06  7.871199e+06  7.871199e+06   \n",
       "mean   2.671622e+01  8.728722e+01  7.128837e+00  4.357550e+00  3.329762e+01   \n",
       "std    4.997269e+01  4.858471e+01  3.776225e+00  1.412334e+00  2.685778e+01   \n",
       "min    1.000000e+00  1.000000e+00  1.000000e+00  1.000000e+00  1.000000e+00   \n",
       "25%    2.000000e+00  4.300000e+01  4.000000e+00  3.000000e+00  1.100000e+01   \n",
       "50%    4.000000e+00  8.900000e+01  7.000000e+00  5.000000e+00  2.900000e+01   \n",
       "75%    7.000000e+00  1.320000e+02  1.000000e+01  5.000000e+00  4.600000e+01   \n",
       "max    2.150000e+02  1.680000e+02  1.300000e+01  8.000000e+00  1.140000e+02   \n",
       "\n",
       "            user_id    program_id      event_id      duration  \n",
       "count  7.871199e+06  7.871199e+06  7.871199e+06  7.871199e+06  \n",
       "mean   5.897954e+03  1.744527e+05  5.205044e+07  2.746919e+01  \n",
       "std    3.541348e+03  1.324662e+05  7.161210e+05  1.384886e+01  \n",
       "min    1.000000e+00  3.782000e+03  4.939450e+07  1.100000e+01  \n",
       "25%    2.867000e+03  6.006800e+04  5.145605e+07  1.600000e+01  \n",
       "50%    5.845000e+03  1.397770e+05  5.206953e+07  2.400000e+01  \n",
       "75%    8.737000e+03  3.451810e+05  5.268460e+07  3.500000e+01  \n",
       "max    1.341500e+04  3.790270e+05  5.340056e+07  6.000000e+01  "
      ]
     },
     "execution_count": 5,
     "metadata": {},
     "output_type": "execute_result"
    }
   ],
   "source": [
    "corr_tv_data.describe()"
   ]
  },
  {
   "cell_type": "code",
   "execution_count": null,
   "metadata": {},
   "outputs": [],
   "source": [
    "corr_tv_data.to_csv(\"filtered.csv\")"
   ]
  },
  {
   "cell_type": "code",
   "execution_count": null,
   "metadata": {},
   "outputs": [],
   "source": []
  }
 ],
 "metadata": {
  "kernelspec": {
   "display_name": "Python 3",
   "language": "python",
   "name": "python3"
  },
  "language_info": {
   "codemirror_mode": {
    "name": "ipython",
    "version": 3
   },
   "file_extension": ".py",
   "mimetype": "text/x-python",
   "name": "python",
   "nbconvert_exporter": "python",
   "pygments_lexer": "ipython3",
   "version": "3.6.9"
  }
 },
 "nbformat": 4,
 "nbformat_minor": 2
}
